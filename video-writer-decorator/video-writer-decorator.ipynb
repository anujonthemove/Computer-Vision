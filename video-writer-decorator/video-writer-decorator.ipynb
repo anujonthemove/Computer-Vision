{
 "cells": [
  {
   "cell_type": "code",
   "execution_count": 1,
   "metadata": {},
   "outputs": [],
   "source": [
    "import cv2"
   ]
  },
  {
   "cell_type": "code",
   "execution_count": 2,
   "metadata": {},
   "outputs": [],
   "source": [
    "def generate_output_string():\n",
    "\n",
    "    from datetime import datetime\n",
    "\n",
    "    now = datetime.now()\n",
    "    output_str = now.strftime(\"%d_%m_%Y_%H_%M_%S\") + \"_output\"\n",
    "    return output_str"
   ]
  },
  {
   "cell_type": "code",
   "execution_count": 3,
   "metadata": {},
   "outputs": [],
   "source": [
    "def video_writer_decorator(output_path, fourcc='MJPG', fps=30.0, extension='.avi'):\n",
    "    def decorator(func):\n",
    "        def wrapper(cap):\n",
    "            w = int(cap.get(cv2.CAP_PROP_FRAME_WIDTH))\n",
    "            h = int(cap.get(cv2.CAP_PROP_FRAME_HEIGHT))\n",
    "\n",
    "            output_file = f\"{output_path}{extension}\"\n",
    "\n",
    "            out = cv2.VideoWriter(output_file, cv2.VideoWriter_fourcc(*fourcc), fps, (w, h))\n",
    "\n",
    "            func(cap, out)\n",
    "\n",
    "            out.release()\n",
    "\n",
    "        return wrapper\n",
    "\n",
    "    return decorator"
   ]
  },
  {
   "cell_type": "code",
   "execution_count": 4,
   "metadata": {},
   "outputs": [],
   "source": [
    "@video_writer_decorator(output_path=generate_output_string(), fourcc='MJPG', fps=30.0, extension='.avi')\n",
    "def process_frames(cap, out):\n",
    "    while True:\n",
    "        ret, frame = cap.read()\n",
    "        if not ret:\n",
    "            break\n",
    "\n",
    "        # Perform any frame processing here\n",
    "\n",
    "        out.write(frame)\n",
    "\n",
    "        cv2.namedWindow('frame', cv2.WINDOW_KEEPRATIO)\n",
    "        cv2.imshow('frame', frame)\n",
    "        k = cv2.waitKey(1)\n",
    "        if k == 27:\n",
    "            cv2.destroyAllWindows()\n",
    "            break\n",
    "            "
   ]
  },
  {
   "cell_type": "code",
   "execution_count": 5,
   "metadata": {},
   "outputs": [],
   "source": [
    "if __name__ == \"__main__\":\n",
    "    video_path = 'your-video.mp4'\n",
    "    cap = cv2.VideoCapture(video_path)\n",
    "\n",
    "    process_frames(cap)\n",
    "\n",
    "    cap.release()\n",
    "    cv2.destroyAllWindows()"
   ]
  }
 ],
 "metadata": {
  "kernelspec": {
   "display_name": "cv",
   "language": "python",
   "name": "python3"
  },
  "language_info": {
   "codemirror_mode": {
    "name": "ipython",
    "version": 3
   },
   "file_extension": ".py",
   "mimetype": "text/x-python",
   "name": "python",
   "nbconvert_exporter": "python",
   "pygments_lexer": "ipython3",
   "version": "3.10.12"
  },
  "orig_nbformat": 4
 },
 "nbformat": 4,
 "nbformat_minor": 2
}
