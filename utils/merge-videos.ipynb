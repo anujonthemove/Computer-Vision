{
 "cells": [
  {
   "cell_type": "code",
   "execution_count": 1,
   "metadata": {},
   "outputs": [],
   "source": [
    "from moviepy.editor import VideoFileClip, concatenate_videoclips\n",
    "import os"
   ]
  },
  {
   "cell_type": "code",
   "execution_count": 2,
   "metadata": {},
   "outputs": [],
   "source": [
    "# folder_path = '/media/acer/5C51-8D18/ABG-LAPTOP-BACKUP/test'\n",
    "# videofiles = [n for n in os.listdir(folder_path) if n.endswith('.mp4')]\n",
    "\n",
    "# video_files_new=[]\n",
    "# for i in range(0,len(videofiles)):\n",
    "#     video_files_new.append(folder_path+'/'+videofiles[i])\n",
    "\n",
    "# for i in range(0,len(video_files_new)):\n",
    "#     video_files_new[i]=VideoFileClip(video_files_new[i])\n",
    "\n",
    "# final_clip = concatenate_videoclips(video_files_new)\n",
    "# final_clip.write_videofile(\"test.mp4\")"
   ]
  },
  {
   "cell_type": "code",
   "execution_count": 3,
   "metadata": {},
   "outputs": [],
   "source": [
    "base_dir_path = '/media/acer/5C51-8D18/ABG-LAPTOP-BACKUP/test'"
   ]
  },
  {
   "cell_type": "code",
   "execution_count": 4,
   "metadata": {},
   "outputs": [],
   "source": [
    "def merge_videos(base_dir_path, video_name):\n",
    "    if not video_name.endswith('mp4'):\n",
    "        print('provide proper extension..Exiting')\n",
    "        sys.exit()\n",
    "    video_obj_list = []\n",
    "    for video in os.listdir(base_dir_path):\n",
    "        if video.endswith('.mp4'):\n",
    "            abs_video_path = os.path.join(base_dir_path, video)\n",
    "            video_obj_list.append(VideoFileClip(abs_video_path))\n",
    "    \n",
    "    concatenate_videoclips(video_obj_list).write_videofile(video_name)"
   ]
  },
  {
   "cell_type": "code",
   "execution_count": 5,
   "metadata": {},
   "outputs": [
    {
     "name": "stderr",
     "output_type": "stream",
     "text": [
      "t:   1%|▏         | 10/684 [00:00<00:06, 99.16it/s, now=None]"
     ]
    },
    {
     "name": "stdout",
     "output_type": "stream",
     "text": [
      "Moviepy - Building video conc.mp4.\n",
      "Moviepy - Writing video conc.mp4\n",
      "\n"
     ]
    },
    {
     "name": "stderr",
     "output_type": "stream",
     "text": [
      "                                                              \r"
     ]
    },
    {
     "name": "stdout",
     "output_type": "stream",
     "text": [
      "Moviepy - Done !\n",
      "Moviepy - video ready conc.mp4\n"
     ]
    }
   ],
   "source": [
    "merge_videos(base_dir_path, video_name='conc.mp4')"
   ]
  },
  {
   "cell_type": "code",
   "execution_count": null,
   "metadata": {},
   "outputs": [],
   "source": []
  }
 ],
 "metadata": {
  "kernelspec": {
   "display_name": "Python 3",
   "language": "python",
   "name": "python3"
  },
  "language_info": {
   "codemirror_mode": {
    "name": "ipython",
    "version": 3
   },
   "file_extension": ".py",
   "mimetype": "text/x-python",
   "name": "python",
   "nbconvert_exporter": "python",
   "pygments_lexer": "ipython3",
   "version": "3.6.9"
  }
 },
 "nbformat": 4,
 "nbformat_minor": 2
}
