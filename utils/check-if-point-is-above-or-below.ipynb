{
 "cells": [
  {
   "cell_type": "code",
   "execution_count": 2,
   "metadata": {},
   "outputs": [
    {
     "data": {
      "text/plain": [
       "<Figure size 640x480 with 2 Axes>"
      ]
     },
     "metadata": {},
     "output_type": "display_data"
    }
   ],
   "source": [
    "import numpy as np\n",
    "import matplotlib.pyplot as plt\n",
    "\n",
    "isabove = lambda p, a,b: np.cross(p-a, b-a) < 0\n",
    "\n",
    "a = np.array([1,1])\n",
    "b = np.array([4,3])\n",
    "\n",
    "p1 = np.array([2,4])\n",
    "# p2 = np.array([3,1])\n",
    "\n",
    "# p = np.array([p1,p2])\n",
    "\n",
    "\n",
    "# fig, (ax,ax2) = plt.subplots(ncols=2, sharex=True, sharey=True)\n",
    "\n",
    "# ax.plot([a[0],b[0]],[a[1],b[1]], marker=\"o\", color=\"k\")\n",
    "# ax.scatter(p[:,0],p[:,1], c=isabove(p,a,b), cmap=\"bwr\", vmin=0, vmax=1)\n",
    "\n",
    "# p = np.random.rand(10,2)*5\n",
    "\n",
    "# ax2.plot([a[0],b[0]],[a[1],b[1]], marker=\"o\", color=\"k\")\n",
    "# ax2.scatter(p[:,0],p[:,1], c=isabove(p,a,b), cmap=\"bwr\", vmin=0, vmax=1)\n",
    "\n",
    "\n",
    "# ax.set_xlim(0,6)\n",
    "# ax.set_ylim(0,6)\n",
    "# plt.show()\n"
   ]
  },
  {
   "cell_type": "code",
   "execution_count": 5,
   "metadata": {},
   "outputs": [
    {
     "data": {
      "text/plain": [
       "True"
      ]
     },
     "execution_count": 5,
     "metadata": {},
     "output_type": "execute_result"
    }
   ],
   "source": [
    "isabove(p1,a,b)"
   ]
  },
  {
   "cell_type": "code",
   "execution_count": 7,
   "metadata": {},
   "outputs": [],
   "source": [
    "import cv2"
   ]
  },
  {
   "cell_type": "code",
   "execution_count": null,
   "metadata": {},
   "outputs": [],
   "source": []
  },
  {
   "cell_type": "code",
   "execution_count": 9,
   "metadata": {},
   "outputs": [
    {
     "name": "stdout",
     "output_type": "stream",
     "text": [
      "768 1366\n",
      "683\n"
     ]
    }
   ],
   "source": [
    "img = cv2.imread('/home/anuj/Desktop/internet-issue.png')\n",
    "\n",
    "w, h, _ = img.shape\n",
    "\n",
    "print(w, h)\n",
    "line = int(0.5 * h)\n",
    "print(line)\n",
    "# lineThickness = 2\n",
    "# cv2.line(img, (x1, y1), (x2, y2), (0,255,0), lineThickness)\n",
    "# cv2.line(img,(0,0),(h, w),(255,0,0),5)\n",
    "# cv2.line(img, (line, 0), (line, h), (243, 150, 33), 5)\n",
    "# cv2.imshow('org', img)\n",
    "# k=cv2.waitKey()\n",
    "# if k == 27:\n",
    "# \tcv2.destroyAllWindows()\n",
    "\n"
   ]
  },
  {
   "cell_type": "code",
   "execution_count": 10,
   "metadata": {},
   "outputs": [],
   "source": [
    "A = np.array([line, 0])\n",
    "B = np.array([line, h])"
   ]
  },
  {
   "cell_type": "code",
   "execution_count": 12,
   "metadata": {},
   "outputs": [],
   "source": [
    "pt = np.array([730, 730])"
   ]
  },
  {
   "cell_type": "code",
   "execution_count": 13,
   "metadata": {},
   "outputs": [
    {
     "data": {
      "text/plain": [
       "False"
      ]
     },
     "execution_count": 13,
     "metadata": {},
     "output_type": "execute_result"
    }
   ],
   "source": [
    "isabove(pt, A,B)"
   ]
  },
  {
   "cell_type": "code",
   "execution_count": 15,
   "metadata": {},
   "outputs": [],
   "source": [
    "pt1 = np.array([600, 728])"
   ]
  },
  {
   "cell_type": "code",
   "execution_count": 16,
   "metadata": {},
   "outputs": [
    {
     "data": {
      "text/plain": [
       "True"
      ]
     },
     "execution_count": 16,
     "metadata": {},
     "output_type": "execute_result"
    }
   ],
   "source": [
    "isabove(pt1, A, B)"
   ]
  },
  {
   "cell_type": "code",
   "execution_count": null,
   "metadata": {},
   "outputs": [],
   "source": []
  }
 ],
 "metadata": {
  "kernelspec": {
   "display_name": "Python 3",
   "language": "python",
   "name": "python3"
  },
  "language_info": {
   "codemirror_mode": {
    "name": "ipython",
    "version": 3
   },
   "file_extension": ".py",
   "mimetype": "text/x-python",
   "name": "python",
   "nbconvert_exporter": "python",
   "pygments_lexer": "ipython3",
   "version": "3.5.2"
  }
 },
 "nbformat": 4,
 "nbformat_minor": 2
}
