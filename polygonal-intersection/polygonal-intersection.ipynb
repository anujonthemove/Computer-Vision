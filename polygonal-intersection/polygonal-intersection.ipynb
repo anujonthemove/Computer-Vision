{
 "cells": [
  {
   "cell_type": "code",
   "execution_count": 15,
   "metadata": {},
   "outputs": [],
   "source": [
    "from shapely.geometry import Polygon, Point"
   ]
  },
  {
   "cell_type": "code",
   "execution_count": 16,
   "metadata": {
    "notebookRunGroups": {
     "groupValue": "1"
    }
   },
   "outputs": [],
   "source": [
    "def is_point_inside_polygon(polygon, point) -> bool:\n",
    "    \"\"\"\n",
    "    Check if a point is inside a polygon.\n",
    "\n",
    "    Args:\n",
    "        polygon (list[list[float]]): List of points for the polygon [[x1, y1], [x2, y2], ...].\n",
    "        point (list[float]): Point [x, y].\n",
    "\n",
    "    Returns:\n",
    "        bool: True if the point is inside the polygon, False otherwise.\n",
    "    \"\"\"\n",
    "    polygon_shape = Polygon(polygon)\n",
    "    return polygon_shape.contains(Point(point))"
   ]
  },
  {
   "cell_type": "code",
   "execution_count": 17,
   "metadata": {},
   "outputs": [],
   "source": [
    "def are_polygons_intersecting(pt1, pt2, intersection_threshold=0.1) -> bool:\n",
    "    \"\"\"\n",
    "    Check if two polygons are intersecting.\n",
    "\n",
    "    Args:\n",
    "        pt1 (list[list[float]]): List of points for polygon 1 [[x1, y1], [x2, y2], ...].\n",
    "        pt2 (list[list[float]]): List of points for polygon 2 [[x1, y1], [x2, y2], ...].\n",
    "        intersection_threshold (float, optional): Intersection threshold for polygon intersection with respect to pt2. Defaults to 0.5.\n",
    "\n",
    "    Returns:\n",
    "        bool: True if the polygons are intersecting with the specified threshold, False otherwise.\n",
    "    \"\"\"\n",
    "    polygon1 = Polygon(pt1)\n",
    "    polygon2 = Polygon(pt2)\n",
    "    \n",
    "    intersection_area = polygon1.intersection(polygon2).area\n",
    "    if intersection_area / polygon2.area > intersection_threshold:\n",
    "        return True\n",
    "    return False"
   ]
  },
  {
   "cell_type": "code",
   "execution_count": 18,
   "metadata": {},
   "outputs": [],
   "source": [
    "def test_is_point_inside_polygon():\n",
    "    polygon = [[0, 0], [0, 5], [5, 5], [5, 0]]\n",
    "    point_inside = [2, 2]\n",
    "    point_outside = [6, 6]\n",
    "\n",
    "    result_inside = is_point_inside_polygon(polygon, point_inside)\n",
    "    result_outside = is_point_inside_polygon(polygon, point_outside)\n",
    "\n",
    "    print(f\"Is point_inside inside the polygon? {result_inside}\")  # Expect True\n",
    "    print(f\"Is point_outside inside the polygon? {result_outside}\")  # Expect False"
   ]
  },
  {
   "cell_type": "code",
   "execution_count": 19,
   "metadata": {},
   "outputs": [],
   "source": [
    "def test_are_polygons_intersecting():\n",
    "    polygon1 = [[0, 0], [0, 5], [5, 5], [5, 0]]\n",
    "    polygon2_intersecting = [[3, 3], [3, 6], [6, 6], [6, 3]]\n",
    "\n",
    "    polygon2_non_intersecting = [[6, 6], [6, 10], [10, 10], [10, 6]]\n",
    "\n",
    "    result_intersecting = are_polygons_intersecting(polygon1, polygon2_intersecting)\n",
    "    result_non_intersecting = are_polygons_intersecting(polygon1, polygon2_non_intersecting)\n",
    "\n",
    "    print(f\"Do the polygons intersect? {result_intersecting}\")  # Expect True\n",
    "    print(f\"Do the polygons intersect? {result_non_intersecting}\")  # Expect False"
   ]
  },
  {
   "cell_type": "code",
   "execution_count": 20,
   "metadata": {},
   "outputs": [
    {
     "name": "stdout",
     "output_type": "stream",
     "text": [
      "Testing is_point_inside_polygon:\n",
      "Is point_inside inside the polygon? True\n",
      "Is point_outside inside the polygon? False\n",
      "\n",
      "---\n",
      "\n",
      "Testing are_polygons_intersecting:\n",
      "Do the polygons intersect? True\n",
      "Do the polygons intersect? False\n"
     ]
    }
   ],
   "source": [
    "if __name__ == \"__main__\":\n",
    "    print(\"Testing is_point_inside_polygon:\")\n",
    "    test_is_point_inside_polygon()\n",
    "\n",
    "    print(\"\\n---\\n\")\n",
    "\n",
    "    print(\"Testing are_polygons_intersecting:\")\n",
    "    test_are_polygons_intersecting()\n"
   ]
  }
 ],
 "metadata": {
  "kernelspec": {
   "display_name": "openvino",
   "language": "python",
   "name": "python3"
  },
  "language_info": {
   "codemirror_mode": {
    "name": "ipython",
    "version": 3
   },
   "file_extension": ".py",
   "mimetype": "text/x-python",
   "name": "python",
   "nbconvert_exporter": "python",
   "pygments_lexer": "ipython3",
   "version": "3.10.12"
  }
 },
 "nbformat": 4,
 "nbformat_minor": 2
}
