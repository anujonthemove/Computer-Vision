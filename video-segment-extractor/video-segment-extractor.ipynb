{
 "cells": [
  {
   "cell_type": "code",
   "execution_count": 1,
   "metadata": {},
   "outputs": [],
   "source": [
    "import cv2\n",
    "import os, sys\n",
    "import time\n",
    "from moviepy.video.io.VideoFileClip import VideoFileClip\n",
    "from pathlib import Path"
   ]
  },
  {
   "cell_type": "code",
   "execution_count": 2,
   "metadata": {},
   "outputs": [],
   "source": [
    "class bcolors:\n",
    "    HEADER = '\\033[95m'\n",
    "    OKBLUE = '\\033[94m'\n",
    "    OKCYAN = '\\033[96m'\n",
    "    OKGREEN = '\\033[92m'\n",
    "    WARNING = '\\033[93m'\n",
    "    FAIL = '\\033[91m'\n",
    "    ENDC = '\\033[0m'\n",
    "    BOLD = '\\033[1m'\n",
    "    UNDERLINE = '\\033[4m'\n",
    "\n",
    "class TextStyle:\n",
    "    start = \"\\033[1m\"\n",
    "    end = \"\\033[0;0m\""
   ]
  },
  {
   "cell_type": "code",
   "execution_count": 3,
   "metadata": {},
   "outputs": [],
   "source": [
    "def generate_output_string():\n",
    "    from datetime import datetime\n",
    "\n",
    "    now = datetime.now()\n",
    "    output_str = now.strftime(\"%d_%m_%Y_%H_%M_%S\") + \"_output\"\n",
    "    return output_str"
   ]
  },
  {
   "cell_type": "code",
   "execution_count": 4,
   "metadata": {},
   "outputs": [],
   "source": [
    "class ExtractVideoSegment:\n",
    "    def __init__(self, video_path, write_path='./'):\n",
    "        self.video_path = video_path\n",
    "        self.write_path = write_path\n",
    "        self.filename = Path(self.video_path).stem\n",
    "        self.extension = Path(self.video_path).suffix\n",
    "        self.start_frame = None\n",
    "        self.end_frame = None\n",
    "        self.current_frame = 0\n",
    "        self.video_index = 0\n",
    "        self.cap, self.num_frames, self.fps = self._get_video_capture_object()\n",
    "        \n",
    "        cv2.namedWindow('preview', cv2.WINDOW_NORMAL)\n",
    "        cv2.createTrackbar('scroll', 'preview', 0, self.num_frames, self._trackbar_callback)\n",
    "\n",
    "        self.font = cv2.FONT_HERSHEY_DUPLEX\n",
    "        \n",
    "        self.instructions = [\n",
    "            \"Press 's' to start cutting\",\n",
    "            \" \",\n",
    "            \"Press 'e' to end cutting\",\n",
    "            \" \",\n",
    "            \"Press 'c' to confirm\",\n",
    "            \" \",\n",
    "            \"Press 'Esc' to exit\",\n",
    "        ]\n",
    "\n",
    "    def _get_video_capture_object(self):\n",
    "        try:\n",
    "            cap = cv2.VideoCapture(self.video_path)\n",
    "\n",
    "            if cap.isOpened():\n",
    "                num_frames = int(cap.get(cv2.CAP_PROP_FRAME_COUNT))\n",
    "                fps = int(cap.get(cv2.CAP_PROP_FPS))\n",
    "\n",
    "                if num_frames > 0:\n",
    "                    print(\"==================\")\n",
    "                    print(f\"#Frames: {num_frames}\")\n",
    "                    print(f\"Video FPS: {fps}\")\n",
    "                    print(\"==================\")\n",
    "                    print()\n",
    "                else:\n",
    "                    print(\"The video file is empty or there was an issue reading the frame count.\")\n",
    "                    sys.exit(0)\n",
    "            else:\n",
    "                print(\"The video could not be opened.\")\n",
    "\n",
    "        except cv2.error as e:\n",
    "            print(f\"OpenCV error: {e}\")\n",
    "        except Exception as e:\n",
    "            print(f\"An error occurred: {e}\")\n",
    "        # finally:\n",
    "            # video.release()\n",
    "        return cap, num_frames, fps\n",
    "\n",
    "    def _trackbar_callback(self, x):\n",
    "        self.current_frame = x\n",
    "        self.cap.set(cv2.CAP_PROP_POS_FRAMES, self.current_frame)\n",
    "        self._display_current_frame()\n",
    "\n",
    "    def _get_formatted_time(self, seconds):\n",
    "        return time.strftime('%H:%M:%S', time.gmtime(seconds))\n",
    "\n",
    "    def _extract_and_save_segment(self, start_frame, end_frame, output_filename):\n",
    "        start_time = start_frame / self.fps\n",
    "        duration = (end_frame - start_frame) / self.fps\n",
    "\n",
    "        clip = VideoFileClip(self.video_path).subclip(start_time, start_time + duration)\n",
    "        clip.write_videofile(output_filename, codec='libx264', audio_codec='aac')\n",
    "\n",
    "    def _display_current_frame(self):\n",
    "        ret, frame = self.cap.read()\n",
    "        if ret:\n",
    "            frame_with_instructions = frame.copy()\n",
    "            height, width, _ = frame_with_instructions.shape\n",
    "\n",
    "            # Determine the dimensions of the red background based on the instructions\n",
    "            text_size = cv2.getTextSize(max(self.instructions, key=len), self.font, 1, 2)[0]\n",
    "            padding = 10\n",
    "            bg_height = len(self.instructions) * text_size[1] + padding * 2\n",
    "            bg_width = text_size[0] + padding * 2\n",
    "\n",
    "            # Draw the red background behind the instructions\n",
    "            cv2.rectangle(frame_with_instructions, (width - bg_width, 0), (width, bg_height), (0, 0, 255), -1)\n",
    "\n",
    "            # Display instructions on the red background\n",
    "            for idx, instruction in enumerate(self.instructions):\n",
    "                y = (idx + 1) * text_size[1] + padding\n",
    "                cv2.putText(frame_with_instructions, instruction, (width - bg_width + padding, y), self.font, 1, (255, 255, 255), 2)\n",
    "            \n",
    "            # Display the frame\n",
    "            cv2.imshow('preview', frame_with_instructions)\n",
    "\n",
    "    def cut_video(self):\n",
    "        self._display_current_frame()  # Display initial frame\n",
    "        while True:\n",
    "            k = cv2.waitKey(1)\n",
    "\n",
    "            if k == 83 or k == 115:  # Press 's' key\n",
    "                self.start_frame = self.current_frame\n",
    "                start_time = self._get_formatted_time(self.start_frame / self.fps)\n",
    "                print()\n",
    "                print()\n",
    "                print(f\"{bcolors.OKGREEN} {TextStyle.start}[Segment Info]: {TextStyle.end} {bcolors.ENDC}\")\n",
    "                print(f\"Start Frame: {self.start_frame}\")\n",
    "                print(f\"Start Time: {start_time}\")\n",
    "\n",
    "\n",
    "            if k == 69 or k == 101:  # Press 'e' key\n",
    "                self.end_frame = self.current_frame\n",
    "                end_time = self._get_formatted_time(self.end_frame / self.fps)\n",
    "                print(f\"End Frame: {self.end_frame}\")\n",
    "                print(f\"End Time: {end_time}\")\n",
    "\n",
    "            if k == 67 or k == 99:    # Press 'c' key\n",
    "                self.video_index += 1\n",
    "                # output_filename = os.path.join(self.write_path, f'out_{self.video_index}.mp4')\n",
    "                output_str = self.filename + \"_\" + generate_output_string()\n",
    "                output_filename = os.path.join(self.write_path, output_str+self.extension)\n",
    "\n",
    "                if self.start_frame is not None and self.end_frame is not None:\n",
    "                    print(f\"Saving segment from frame {self.start_frame} to {self.end_frame}...\")\n",
    "                    self._extract_and_save_segment(self.start_frame, self.end_frame, output_filename)\n",
    "                else:\n",
    "                    print(\"Please set start and end frames before confirming.\")\n",
    "\n",
    "                self.start_frame = None\n",
    "                self.end_frame = None\n",
    "                \n",
    "\n",
    "            if k == 27:  # Press 'Esc' key\n",
    "                break\n",
    "\n",
    "        cv2.destroyAllWindows()\n",
    "        self.cap.release()\n"
   ]
  },
  {
   "cell_type": "code",
   "execution_count": 5,
   "metadata": {},
   "outputs": [
    {
     "name": "stdout",
     "output_type": "stream",
     "text": [
      "==================\n",
      "#Frames: 437\n",
      "Video FPS: 10\n",
      "==================\n",
      "\n",
      "\n",
      "\n",
      "\u001b[92m \u001b[1m[Segment Info]: \u001b[0;0m \u001b[0m\n",
      "Start Frame: 0\n",
      "Start Time: 00:00:00\n",
      "End Frame: 8\n",
      "End Time: 00:00:00\n",
      "Saving segment from frame 0 to 8...\n",
      "Moviepy - Building video ./MVI_20032_29_10_2023_13_19_54_output.mp4.\n",
      "Moviepy - Writing video ./MVI_20032_29_10_2023_13_19_54_output.mp4\n",
      "\n"
     ]
    },
    {
     "name": "stderr",
     "output_type": "stream",
     "text": [
      "                                                  "
     ]
    },
    {
     "name": "stdout",
     "output_type": "stream",
     "text": [
      "Moviepy - Done !\n",
      "Moviepy - video ready ./MVI_20032_29_10_2023_13_19_54_output.mp4\n"
     ]
    },
    {
     "name": "stderr",
     "output_type": "stream",
     "text": [
      "\r"
     ]
    },
    {
     "name": "stdout",
     "output_type": "stream",
     "text": [
      "\n",
      "\n",
      "\u001b[92m \u001b[1m[Segment Info]: \u001b[0;0m \u001b[0m\n",
      "Start Frame: 12\n",
      "Start Time: 00:00:01\n",
      "End Frame: 31\n",
      "End Time: 00:00:03\n",
      "Saving segment from frame 12 to 31...\n",
      "Moviepy - Building video ./MVI_20032_29_10_2023_13_20_02_output.mp4.\n",
      "Moviepy - Writing video ./MVI_20032_29_10_2023_13_20_02_output.mp4\n",
      "\n"
     ]
    },
    {
     "name": "stderr",
     "output_type": "stream",
     "text": [
      "                                                   "
     ]
    },
    {
     "name": "stdout",
     "output_type": "stream",
     "text": [
      "Moviepy - Done !\n",
      "Moviepy - video ready ./MVI_20032_29_10_2023_13_20_02_output.mp4\n"
     ]
    },
    {
     "name": "stderr",
     "output_type": "stream",
     "text": [
      "\r"
     ]
    },
    {
     "name": "stdout",
     "output_type": "stream",
     "text": [
      "End Frame: 40\n",
      "End Time: 00:00:04\n",
      "\n",
      "\n",
      "\u001b[92m \u001b[1m[Segment Info]: \u001b[0;0m \u001b[0m\n",
      "Start Frame: 40\n",
      "Start Time: 00:00:04\n",
      "End Frame: 70\n",
      "End Time: 00:00:07\n",
      "Saving segment from frame 40 to 70...\n",
      "Moviepy - Building video ./MVI_20032_29_10_2023_13_20_09_output.mp4.\n",
      "Moviepy - Writing video ./MVI_20032_29_10_2023_13_20_09_output.mp4\n",
      "\n"
     ]
    },
    {
     "name": "stderr",
     "output_type": "stream",
     "text": [
      "                                                   \r"
     ]
    },
    {
     "name": "stdout",
     "output_type": "stream",
     "text": [
      "Moviepy - Done !\n",
      "Moviepy - video ready ./MVI_20032_29_10_2023_13_20_09_output.mp4\n",
      "\n",
      "\n",
      "\u001b[92m \u001b[1m[Segment Info]: \u001b[0;0m \u001b[0m\n",
      "Start Frame: 79\n",
      "Start Time: 00:00:07\n",
      "End Frame: 128\n",
      "End Time: 00:00:12\n",
      "Saving segment from frame 79 to 128...\n",
      "Moviepy - Building video ./MVI_20032_29_10_2023_13_20_19_output.mp4.\n",
      "Moviepy - Writing video ./MVI_20032_29_10_2023_13_20_19_output.mp4\n",
      "\n"
     ]
    },
    {
     "name": "stderr",
     "output_type": "stream",
     "text": [
      "                                                             \r"
     ]
    },
    {
     "name": "stdout",
     "output_type": "stream",
     "text": [
      "Moviepy - Done !\n",
      "Moviepy - video ready ./MVI_20032_29_10_2023_13_20_19_output.mp4\n"
     ]
    }
   ],
   "source": [
    "if __name__ == \"__main__\":\n",
    "    abs_video_path = '/home/acer/workspace/CV-Local/unfactored-code/MVI_20032.mp4'\n",
    "    video_cutter = ExtractVideoSegment(abs_video_path)\n",
    "    video_cutter.cut_video()"
   ]
  }
 ],
 "metadata": {
  "kernelspec": {
   "display_name": "cv",
   "language": "python",
   "name": "python3"
  },
  "language_info": {
   "codemirror_mode": {
    "name": "ipython",
    "version": 3
   },
   "file_extension": ".py",
   "mimetype": "text/x-python",
   "name": "python",
   "nbconvert_exporter": "python",
   "pygments_lexer": "ipython3",
   "version": "3.10.12"
  },
  "orig_nbformat": 4
 },
 "nbformat": 4,
 "nbformat_minor": 2
}
