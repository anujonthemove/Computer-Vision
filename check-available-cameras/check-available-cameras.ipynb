{
 "cells": [
  {
   "cell_type": "markdown",
   "metadata": {},
   "source": [
    "## Check all available Cameras (VideoCapture devices)"
   ]
  },
  {
   "cell_type": "code",
   "execution_count": 1,
   "metadata": {},
   "outputs": [],
   "source": [
    "import cv2\n",
    "import v4l2\n",
    "import fcntl\n",
    "import os"
   ]
  },
  {
   "cell_type": "code",
   "execution_count": 2,
   "metadata": {},
   "outputs": [],
   "source": [
    "def is_video_capture_device(device_path):\n",
    "    # Attempt to open the device using cv2.VideoCapture\n",
    "    cap = cv2.VideoCapture(device_path, cv2.CAP_V4L2)\n",
    "    is_video_capture = cap.isOpened()\n",
    "    cap.release()\n",
    "    return is_video_capture\n",
    "\n",
    "def list_video_capture_devices():\n",
    "    index = 0\n",
    "    max_index = 10  # Set a maximum number of iterations to avoid an infinite loop\n",
    "    cameras = {}\n",
    "\n",
    "    while index < max_index:\n",
    "        # Define the video device path\n",
    "        video_device = f\"/dev/video{index}\"\n",
    "\n",
    "        # Check if the device file exists\n",
    "        if not os.path.exists(video_device):\n",
    "            break\n",
    "\n",
    "        # Check if the device is a video capture device\n",
    "        if is_video_capture_device(video_device):\n",
    "            # Get the device name from /sys/class/video4linux\n",
    "            try:\n",
    "                with open(f\"/sys/class/video4linux/video{index}/name\", 'r') as name_file:\n",
    "                    device_name = name_file.read().strip()\n",
    "            except FileNotFoundError:\n",
    "                device_name = f\"Camera {index}\"\n",
    "\n",
    "            # Add camera information to the dictionary\n",
    "            cameras[device_name] = video_device\n",
    "\n",
    "        # Move to the next camera index\n",
    "        index += 1\n",
    "\n",
    "    return cameras"
   ]
  },
  {
   "cell_type": "code",
   "execution_count": 3,
   "metadata": {},
   "outputs": [
    {
     "name": "stdout",
     "output_type": "stream",
     "text": [
      "Available Video Capture Devices:\n",
      "HD User Facing: HD User Facing: /dev/video0\n",
      "Logitech Webcam C930e: /dev/video2\n",
      "HD Pro Webcam C920: /dev/video4\n"
     ]
    },
    {
     "name": "stderr",
     "output_type": "stream",
     "text": [
      "[ WARN:0@0.250] global cap.cpp:204 open VIDEOIO(V4L2): backend is generally available but can't be used to capture by name\n",
      "[ WARN:0@0.321] global cap.cpp:204 open VIDEOIO(V4L2): backend is generally available but can't be used to capture by name\n",
      "[ WARN:0@0.394] global cap.cpp:204 open VIDEOIO(V4L2): backend is generally available but can't be used to capture by name\n"
     ]
    }
   ],
   "source": [
    "if __name__ == \"__main__\":\n",
    "    available_cameras = list_video_capture_devices()\n",
    "    print(\"Available Video Capture Devices:\")\n",
    "    for name, path in available_cameras.items():\n",
    "        print(f\"{name}: {path}\")\n"
   ]
  },
  {
   "cell_type": "markdown",
   "metadata": {},
   "source": [
    "#### Pick up a device and test"
   ]
  },
  {
   "cell_type": "code",
   "execution_count": 4,
   "metadata": {},
   "outputs": [
    {
     "name": "stderr",
     "output_type": "stream",
     "text": [
      "[ WARN:0@0.488] global cap.cpp:204 open VIDEOIO(V4L2): backend is generally available but can't be used to capture by name\n",
      "[ WARN:0@0.491] global cap.cpp:204 open VIDEOIO(V4L2): backend is generally available but can't be used to capture by name\n",
      "[ WARN:0@0.494] global cap.cpp:204 open VIDEOIO(V4L2): backend is generally available but can't be used to capture by name\n"
     ]
    }
   ],
   "source": [
    "import cv2\n",
    "\n",
    "# Get the available cameras\n",
    "# available_cameras = get_available_cameras()\n",
    "available_cameras = list_video_capture_devices()\n",
    "\n",
    "# Select a camera (change 'camera_name' to the desired camera name)\n",
    "selected_camera = 'Logitech Webcam C930e'\n",
    "if selected_camera in available_cameras:\n",
    "    selected_camera_index = int(available_cameras[selected_camera][-1])  # Extract the numerical index from the device path\n",
    "    cap = cv2.VideoCapture(selected_camera_index)\n",
    "    \n",
    "    # Now 'cap' can be used to capture frames from the selected camera\n",
    "    while True:\n",
    "        ret, frame = cap.read()\n",
    "        if not ret:\n",
    "            print(\"Could not capture\")\n",
    "            break\n",
    "        cv2.imshow('Selected Camera', frame)\n",
    "        \n",
    "        k = cv2.waitKey(1)\n",
    "        if k == 27:\n",
    "            break\n",
    "    \n",
    "    cap.release()\n",
    "    cv2.destroyAllWindows()\n",
    "else:\n",
    "    print(f\"The specified camera '{selected_camera}' is not available.\")"
   ]
  }
 ],
 "metadata": {
  "kernelspec": {
   "display_name": "cv",
   "language": "python",
   "name": "python3"
  },
  "language_info": {
   "codemirror_mode": {
    "name": "ipython",
    "version": 3
   },
   "file_extension": ".py",
   "mimetype": "text/x-python",
   "name": "python",
   "nbconvert_exporter": "python",
   "pygments_lexer": "ipython3",
   "version": "3.10.12"
  }
 },
 "nbformat": 4,
 "nbformat_minor": 2
}
