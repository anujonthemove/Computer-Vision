{
 "cells": [
  {
   "cell_type": "markdown",
   "metadata": {},
   "source": [
    "# How to build a TensorRT graph using frozen model and use it for prediction?"
   ]
  },
  {
   "cell_type": "markdown",
   "metadata": {},
   "source": [
    "## Necessary imports"
   ]
  },
  {
   "cell_type": "code",
   "execution_count": 1,
   "metadata": {
    "ExecuteTime": {
     "end_time": "2019-05-18T14:30:00.428162Z",
     "start_time": "2019-05-18T14:29:58.243869Z"
    }
   },
   "outputs": [],
   "source": [
    "import tensorflow as tf\n",
    "import numpy as np\n",
    "import matplotlib.pyplot as plt\n",
    "import gzip\n",
    "import os, sys\n",
    "import multiprocessing\n",
    "from requests import get\n",
    "import pickle\n",
    "from sklearn.model_selection import train_test_split\n",
    "from sklearn.utils import shuffle\n",
    "from mnist import mnist\n",
    "import tensorflow.contrib.tensorrt as trt\n",
    "import time"
   ]
  },
  {
   "cell_type": "markdown",
   "metadata": {},
   "source": [
    "## Class to convert TensorFlow model to TensorRT model"
   ]
  },
  {
   "cell_type": "code",
   "execution_count": 2,
   "metadata": {
    "ExecuteTime": {
     "end_time": "2019-05-18T14:30:00.444252Z",
     "start_time": "2019-05-18T14:30:00.430027Z"
    }
   },
   "outputs": [],
   "source": [
    "class convertTFGraphToTRT(object):\n",
    "\n",
    "    def __init__(self, max_batch_size, trt_gpu_allocation_size_in_bytes, precision_mode):\n",
    "        \n",
    "        # config for tensorrt\n",
    "        allowed_precision_modes = ['FP32', 'FP16', 'INT8']\n",
    "        if not precision_mode in allowed_precision_modes:\n",
    "            print('Incorrect precision mode string provided, \\\n",
    "                  please choose one from: {} and try again.'.format(allowed_precision_modes))\n",
    "            sys.exit()\n",
    "            \n",
    "        self.max_batch_size = max_batch_size\n",
    "        self.max_workspace_size_bytes = trt_gpu_allocation_size_in_bytes\n",
    "        self.precision_mode = precision_mode\n",
    "                \n",
    "    def import_graph_def(self, frozen_graph_path):\n",
    "            with tf.gfile.GFile(frozen_graph_path, 'rb') as f:\n",
    "                # initialize a varible with graphdef which is a \n",
    "                # serialized version of the graph\n",
    "                graph_def = tf.GraphDef()\n",
    "                # load graphdef from protobuf file\n",
    "                graph_def.ParseFromString(f.read())\n",
    "            return graph_def\n",
    "    \n",
    "    def frozen_modelToTRTGraph(self, frozen_graph_path, output_node_list):\n",
    "        # load frozen tf graph/model\n",
    "        if not isinstance(output_node_list, list):\n",
    "            print('please provide a list of output nodes instead of a string')\n",
    "            sys.exit()\n",
    "        \n",
    "        frozen_graph = self.import_graph_def(frozen_graph_path)\n",
    "\n",
    "        # convert (optimize) frozen model to TensorRT model\n",
    "        trt_graph = trt.create_inference_graph(\n",
    "            # frozen model\n",
    "            input_graph_def=frozen_graph,\n",
    "            outputs=output_node_list,\n",
    "            # specify your max batch size\n",
    "            max_batch_size=2,\n",
    "            # specify the max workspace\n",
    "            max_workspace_size_bytes=2*(10**9),\n",
    "            # precision, can be \"FP32\" (32 floating point precision) or \"FP16\"\n",
    "            precision_mode=self.precision_mode) \n",
    "        # Finally we serialize and dump the output graph to the filesystem\n",
    "        with tf.gfile.GFile(frozen_graph_path.replace('.pb', '_trt_'+self.precision_mode+'.pb'), 'wb') as f:\n",
    "            f.write(trt_graph.SerializeToString())\n",
    "\n",
    "        print(\"TensorRT model is successfully stored!\")\n",
    "        print()\n",
    "        \n",
    "        # check how many ops of the original frozen model\n",
    "        all_nodes = len([1 for n in frozen_graph.node])\n",
    "        print(\"numb. of all_nodes in frozen graph:\", all_nodes)\n",
    "        # check how many ops that is converted to TensorRT engine\n",
    "        trt_engine_nodes = len([1 for n in trt_graph.node if str(n.op) == 'TRTEngineOp'])\n",
    "        print(\"numb. of trt_engine_nodes in TensorRT graph:\", trt_engine_nodes)\n",
    "        all_nodes = len([1 for n in trt_graph.node])\n",
    "        print(\"numb. of all_nodes in TensorRT graph:\", all_nodes)"
   ]
  },
  {
   "cell_type": "markdown",
   "metadata": {},
   "source": [
    "## Instantiate class with necessary parameters\n",
    "* There are a few very important parameters to be taken care of when freezing a TensorRT graph, they are:\n",
    "    * max_batch_size\n",
    "    * trt_gpu_allocation_size_in_bytes\n",
    "    * precision_mode"
   ]
  },
  {
   "cell_type": "code",
   "execution_count": 3,
   "metadata": {
    "ExecuteTime": {
     "end_time": "2019-05-18T14:30:00.539875Z",
     "start_time": "2019-05-18T14:30:00.447137Z"
    }
   },
   "outputs": [],
   "source": [
    "obj = convertTFGraphToTRT(max_batch_size=2, trt_gpu_allocation_size_in_bytes=1 << 25, precision_mode='FP32')"
   ]
  },
  {
   "cell_type": "markdown",
   "metadata": {},
   "source": [
    "## convert model\n",
    "* This requires the following:\n",
    "    * frozen model that needs to be converted\n",
    "    * list of output nodes"
   ]
  },
  {
   "cell_type": "code",
   "execution_count": 4,
   "metadata": {
    "ExecuteTime": {
     "end_time": "2019-05-18T14:30:04.012900Z",
     "start_time": "2019-05-18T14:30:00.543309Z"
    }
   },
   "outputs": [
    {
     "name": "stdout",
     "output_type": "stream",
     "text": [
      "INFO:tensorflow:Running against TensorRT version 5.0.2\n",
      "TensorRT model is successfully stored!\n",
      "\n",
      "numb. of all_nodes in frozen graph: 40\n",
      "numb. of trt_engine_nodes in TensorRT graph: 1\n",
      "numb. of all_nodes in TensorRT graph: 3\n"
     ]
    }
   ],
   "source": [
    "obj.frozen_modelToTRTGraph(frozen_graph_path='./models/mnist/lenet/frozen_model.pb', output_node_list=['output'])"
   ]
  },
  {
   "cell_type": "markdown",
   "metadata": {},
   "source": [
    "## Class to load frozen models\n",
    "* A TensorRT model can be loaded and used just as a normal TensorFlow model\n",
    "* The part below here is taken from the notebook on [Working with Frozen TensorFlow model](Working-with-Frozen-TensorFlow-model.ipynb)"
   ]
  },
  {
   "cell_type": "code",
   "execution_count": 5,
   "metadata": {
    "ExecuteTime": {
     "end_time": "2019-05-18T14:30:04.034912Z",
     "start_time": "2019-05-18T14:30:04.015958Z"
    }
   },
   "outputs": [],
   "source": [
    "class loadFrozenGraph(object):\n",
    "\n",
    "    def __init__(self, frozen_graph_path):\n",
    "        \n",
    "        # config for tensorflow \n",
    "        config = tf.ConfigProto(device_count={'GPU':1, 'CPU':3})\n",
    "        config.gpu_options.allow_growth=True\n",
    "        config.gpu_options.per_process_gpu_memory_fraction=0.30\n",
    "\n",
    "        \n",
    "        # import frozen graph\n",
    "        self.graph = self.import_graph(frozen_graph_path)\n",
    "        \n",
    "        # MOST IMPORTANT - pass the loaded graph when creating session\n",
    "        self.sess = tf.Session(config=config, graph=self.graph)\n",
    "        \n",
    "        # get input and output tensors\n",
    "        self.x = self.graph.get_tensor_by_name('prefix/input:0')\n",
    "        self.y = self.graph.get_tensor_by_name('prefix/output:0')   \n",
    "        \n",
    "    def import_graph(self, frozen_graph_path):\n",
    "            # just a TF way to load a file in desired mode\n",
    "            # we can also use python file api as well, if loading from local FS\n",
    "            # for more, checkout the link in the 'Learnings' section\n",
    "            with tf.gfile.GFile(frozen_graph_path, 'rb') as f:\n",
    "                # initialize a varible with graphdef which is a \n",
    "                # serialized version of the graph\n",
    "                graph_def = tf.GraphDef()\n",
    "                # load graphdef from protobuf file\n",
    "                graph_def.ParseFromString(f.read())\n",
    "            \n",
    "            # create an empty graph - bound in a scope here\n",
    "            # and import the graph def into it\n",
    "            with tf.Graph().as_default() as graph:\n",
    "                tf.import_graph_def(graph_def, name='prefix')\n",
    "\n",
    "            return graph\n",
    "    \n",
    "    def get_tensor_names(self):\n",
    "        # print operations\n",
    "        for op in self.graph.get_operations():\n",
    "            print(op.name)\n",
    "    \n",
    "    def predict_from_frozen_graph(self, X_test):\n",
    "        return np.argmax(self.sess.run(self.y, feed_dict={self.x: X_test}), axis=1)\n",
    "    \n",
    "    def calculate_accuracy(self, y_pred, y_test):\n",
    "        correct_instances = np.where(y_test == y_pred)[0].shape[0]\n",
    "        total_instances = y_test.shape[0]\n",
    "        accuracy = float(correct_instances)/total_instances\n",
    "        print('Accuracy: {}'.format(accuracy*100.0))"
   ]
  },
  {
   "cell_type": "markdown",
   "metadata": {},
   "source": [
    "## Class to work with saved_model"
   ]
  },
  {
   "cell_type": "code",
   "execution_count": 6,
   "metadata": {
    "ExecuteTime": {
     "end_time": "2019-05-18T14:30:04.305939Z",
     "start_time": "2019-05-18T14:30:04.040750Z"
    }
   },
   "outputs": [],
   "source": [
    "class trtUsingSavedModel(object):\n",
    "    def __init__(self, saved_model_dir, saved_model_tag_list):\n",
    "        \n",
    "        self.graph = self.import_from_graph_def(self.saved_modelToTRTGraph(saved_model_dir, saved_model_tag_list))\n",
    "        \n",
    "        self.x = self.graph.get_tensor_by_name('input:0')\n",
    "        self.y = self.graph.get_tensor_by_name('output:0')\n",
    "        \n",
    "        self.sess = tf.Session(graph=self.graph)\n",
    "        \n",
    "    def saved_modelToTRTGraph(self, saved_model_dir, saved_model_tag_list):\n",
    "        # Create a TensorRT inference graph from a SavedModel:\n",
    "        trt_graph = trt.create_inference_graph(\n",
    "            input_graph_def=None,\n",
    "            outputs=None,\n",
    "            input_saved_model_dir=saved_model_dir,\n",
    "            input_saved_model_tags=saved_model_tag_list,\n",
    "            max_batch_size=2,\n",
    "            max_workspace_size_bytes=2*(10**9),\n",
    "            precision_mode='FP32'\n",
    "        )\n",
    "        \n",
    "        print([n.name for n in trt_graph.node])\n",
    "        return trt_graph\n",
    "    \n",
    "    def import_from_graph_def(self, trt_graph):\n",
    "        with tf.Graph().as_default() as graph:\n",
    "            tf.import_graph_def(trt_graph, name='')\n",
    "        return graph\n",
    "    \n",
    "    def calculate_accuracy(self, y_pred, y_test):\n",
    "        correct_instances = np.where(y_test == y_pred)[0].shape[0]\n",
    "        total_instances = y_test.shape[0]\n",
    "        accuracy = float(correct_instances)/total_instances\n",
    "        print('Accuracy: {}'.format(accuracy*100.0))    \n",
    "    \n",
    "    def predict_using_loaded_graph(self, X_test):\n",
    "        return np.argmax(self.sess.run(self.y, feed_dict={self.x: X_test}), axis=1)"
   ]
  },
  {
   "cell_type": "markdown",
   "metadata": {},
   "source": [
    "## Load MNIST data"
   ]
  },
  {
   "cell_type": "code",
   "execution_count": 7,
   "metadata": {
    "ExecuteTime": {
     "end_time": "2019-05-18T14:30:05.077600Z",
     "start_time": "2019-05-18T14:30:04.308808Z"
    }
   },
   "outputs": [],
   "source": [
    "obj = mnist()\n",
    "X_train, y_train, X_test, y_test = obj.load_data()\n",
    "\n",
    "# split into validation and test set from the test set alone\n",
    "X_test, X_validation, y_test, y_validation = train_test_split(X_test, y_test, random_state=0)"
   ]
  },
  {
   "cell_type": "code",
   "execution_count": 8,
   "metadata": {
    "ExecuteTime": {
     "end_time": "2019-05-18T14:30:05.092464Z",
     "start_time": "2019-05-18T14:30:05.083342Z"
    }
   },
   "outputs": [
    {
     "name": "stdout",
     "output_type": "stream",
     "text": [
      "==== Printing shapes of data ===\n",
      "\n",
      "Train data:       (60000, 32, 32, 1) (60000,)\n",
      "Test data:        (7500, 32, 32, 1) (7500,)\n",
      "Validation data:  (2500, 32, 32, 1) (2500,)\n"
     ]
    }
   ],
   "source": [
    "print('==== Printing shapes of data ===')\n",
    "print()\n",
    "print('Train data:      ', X_train.shape, y_train.shape)\n",
    "print('Test data:       ', X_test.shape, y_test.shape)\n",
    "print('Validation data: ', X_validation.shape, y_validation.shape)"
   ]
  },
  {
   "cell_type": "markdown",
   "metadata": {},
   "source": [
    "## Load TensorRT frozen model"
   ]
  },
  {
   "cell_type": "code",
   "execution_count": 9,
   "metadata": {
    "ExecuteTime": {
     "end_time": "2019-05-18T14:30:05.774355Z",
     "start_time": "2019-05-18T14:30:05.095137Z"
    }
   },
   "outputs": [],
   "source": [
    "model = loadFrozenGraph('./models/mnist/lenet/frozen_model_trt_FP32.pb')"
   ]
  },
  {
   "cell_type": "markdown",
   "metadata": {},
   "source": [
    "## Predict using TensorRT model\n",
    "* While I could have made a comparative study here to benchmark TensorRT model against TensorFlow models but I already know how well the former works. Also, there are plenty of such work available on the internet that compares both.\n",
    "* Check links in the reference section"
   ]
  },
  {
   "cell_type": "code",
   "execution_count": 10,
   "metadata": {
    "ExecuteTime": {
     "end_time": "2019-05-18T14:30:08.488123Z",
     "start_time": "2019-05-18T14:30:05.776437Z"
    }
   },
   "outputs": [
    {
     "name": "stdout",
     "output_type": "stream",
     "text": [
      "Accuracy: 95.94666666666667\n",
      "Exec time for TensorRT frozen model:  2.6548843383789062\n"
     ]
    }
   ],
   "source": [
    "t1 = time.time()\n",
    "y_pred = model.predict_from_frozen_graph(X_test)\n",
    "model.calculate_accuracy(y_pred, y_test)\n",
    "t2 = time.time()\n",
    "\n",
    "print('Exec time for TensorRT frozen model: ', t2-t1)"
   ]
  },
  {
   "cell_type": "markdown",
   "metadata": {},
   "source": [
    "## References"
   ]
  },
  {
   "cell_type": "markdown",
   "metadata": {},
   "source": [
    "* Original source: https://docs.nvidia.com/deeplearning/dgx/tf-trt-user-guide/index.html - this contains a list of detailed parameters that needs to be explored further.\n",
    "* Others\n",
    "    * https://github.com/ardianumam/Tensorflow-TensorRT\n",
    "    * http://litaotju.github.io/2019/01/24/Tensorflow-Tutorial-6,-Using-TensorRT-to-speedup-inference/\n",
    "    * https://tsmatz.wordpress.com/2018/07/07/tensorrt-tensorflow-python-on-azure-tutorial/\n",
    "    * https://developers.googleblog.com/2018/03/tensorrt-integration-with-tensorflow.html"
   ]
  },
  {
   "cell_type": "code",
   "execution_count": null,
   "metadata": {},
   "outputs": [],
   "source": []
  }
 ],
 "metadata": {
  "kernelspec": {
   "display_name": "Python 3",
   "language": "python",
   "name": "python3"
  },
  "language_info": {
   "codemirror_mode": {
    "name": "ipython",
    "version": 3
   },
   "file_extension": ".py",
   "mimetype": "text/x-python",
   "name": "python",
   "nbconvert_exporter": "python",
   "pygments_lexer": "ipython3",
   "version": "3.5.2"
  },
  "varInspector": {
   "cols": {
    "lenName": 16,
    "lenType": 16,
    "lenVar": 40
   },
   "kernels_config": {
    "python": {
     "delete_cmd_postfix": "",
     "delete_cmd_prefix": "del ",
     "library": "var_list.py",
     "varRefreshCmd": "print(var_dic_list())"
    },
    "r": {
     "delete_cmd_postfix": ") ",
     "delete_cmd_prefix": "rm(",
     "library": "var_list.r",
     "varRefreshCmd": "cat(var_dic_list()) "
    }
   },
   "types_to_exclude": [
    "module",
    "function",
    "builtin_function_or_method",
    "instance",
    "_Feature"
   ],
   "window_display": false
  }
 },
 "nbformat": 4,
 "nbformat_minor": 2
}
