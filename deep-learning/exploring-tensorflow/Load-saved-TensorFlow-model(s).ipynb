{
 "cells": [
  {
   "cell_type": "markdown",
   "metadata": {},
   "source": [
    "# Load saved TensorFlow model(s)\n",
    "* Exploring how to load saved model(s) (saved using different methods) and do predictions with them. \n",
    "* Broadly, models were saved using:\n",
    "    * [tf.train.saver](https://www.tensorflow.org/api_docs/python/tf/train/Saver)\n",
    "    * [tf.saved_model.builder.SavedModelBuilder](https://www.tensorflow.org/api_docs/python/tf/saved_model/Builder)\n",
    "\n",
    "__NOTE:__ For more on how to save models refer: [Exploring-TensorFlow-Low-Level-API.ipynb](Exploring-TensorFlow-Low-Level-API.ipynb) notebook!"
   ]
  },
  {
   "cell_type": "markdown",
   "metadata": {},
   "source": [
    "## Necessary imports"
   ]
  },
  {
   "cell_type": "code",
   "execution_count": 1,
   "metadata": {
    "ExecuteTime": {
     "end_time": "2019-05-18T14:54:04.885110Z",
     "start_time": "2019-05-18T14:54:03.311628Z"
    }
   },
   "outputs": [],
   "source": [
    "import tensorflow as tf\n",
    "from mnist import mnist\n",
    "from sklearn.model_selection import train_test_split\n",
    "from sklearn.utils import shuffle\n",
    "import time\n",
    "import numpy as np"
   ]
  },
  {
   "cell_type": "markdown",
   "metadata": {},
   "source": [
    "## Load data"
   ]
  },
  {
   "cell_type": "code",
   "execution_count": 2,
   "metadata": {
    "ExecuteTime": {
     "end_time": "2019-05-18T14:54:05.449598Z",
     "start_time": "2019-05-18T14:54:04.887594Z"
    }
   },
   "outputs": [],
   "source": [
    "obj = mnist()\n",
    "X_train, y_train, X_test, y_test = obj.load_data()\n",
    "\n",
    "# split into validation and test set from the test set alone\n",
    "X_test, X_validation, y_test, y_validation = train_test_split(X_test, y_test, random_state=0)"
   ]
  },
  {
   "cell_type": "markdown",
   "metadata": {},
   "source": [
    "## Load model class"
   ]
  },
  {
   "cell_type": "code",
   "execution_count": 3,
   "metadata": {
    "ExecuteTime": {
     "end_time": "2019-05-18T14:54:05.462884Z",
     "start_time": "2019-05-18T14:54:05.452434Z"
    }
   },
   "outputs": [],
   "source": [
    "class loadModel(object):\n",
    "    def __init__(self):\n",
    "        \n",
    "        config = tf.ConfigProto(device_count={'GPU':1, 'CPU':3})\n",
    "        config.gpu_options.allow_growth = True\n",
    "        config.gpu_options.per_process_gpu_memory_fraction = 0.75\n",
    "        self.sess = tf.Session(config=config)\n",
    "        \n",
    "    def load_model_saved_using_tf_train_saver(self, model_path):\n",
    "        # get latest checkpoint from model path\n",
    "        checkpoint_path = tf.train.latest_checkpoint(model_path)\n",
    "        # import graph --> Recreates a Graph saved in a MetaGraphDef proto.\n",
    "        saver = tf.train.import_meta_graph('{}.meta'.format(checkpoint_path))\n",
    "        # restores graph and variables in the session \n",
    "        saver.restore(self.sess, checkpoint_path)\n",
    "        # get the default session's graph\n",
    "        graph = tf.get_default_graph()\n",
    "        return graph\n",
    "    \n",
    "    def load_model_saved_using_tf_saved_model_builder(self, model_path):\n",
    "        # create a new, empty graph\n",
    "        graph = tf.Graph\n",
    "        # load variables, weights, and graph into the default session\n",
    "        tf.saved_model.loader.load(self.sess, ['serve'], model_path)\n",
    "        # get the default graph\n",
    "        graph = tf.get_default_graph()\n",
    "        return graph\n",
    "            \n",
    "    def predict(self, X_test, model_path, function):\n",
    "        graph = function(model_path)\n",
    "        x = graph.get_tensor_by_name('input:0')\n",
    "        y = graph.get_tensor_by_name('output:0')\n",
    "        return np.argmax(self.sess.run(y, feed_dict={x:X_test}), axis=1)\n",
    "\n",
    "    def calculate_accuracy(self, y_pred, y_test):\n",
    "        correct_instances = np.where(y_test == y_pred)[0].shape[0]\n",
    "        total_instances = y_test.shape[0]\n",
    "        accuracy = float(correct_instances)/total_instances\n",
    "        print('Accuracy: {}'.format(accuracy*100.0))"
   ]
  },
  {
   "cell_type": "markdown",
   "metadata": {},
   "source": [
    "## Initialize"
   ]
  },
  {
   "cell_type": "code",
   "execution_count": 4,
   "metadata": {
    "ExecuteTime": {
     "end_time": "2019-05-18T14:54:06.967374Z",
     "start_time": "2019-05-18T14:54:05.467241Z"
    }
   },
   "outputs": [],
   "source": [
    "model = loadModel()"
   ]
  },
  {
   "cell_type": "markdown",
   "metadata": {},
   "source": [
    "## Prediction"
   ]
  },
  {
   "cell_type": "markdown",
   "metadata": {},
   "source": [
    "### a. Load model saved via tf.train.saver"
   ]
  },
  {
   "cell_type": "code",
   "execution_count": 5,
   "metadata": {
    "ExecuteTime": {
     "end_time": "2019-05-18T14:54:10.159034Z",
     "start_time": "2019-05-18T14:54:06.972406Z"
    }
   },
   "outputs": [
    {
     "name": "stdout",
     "output_type": "stream",
     "text": [
      "WARNING:tensorflow:From /home/anuj/.virtualenvs/analytics-3/lib/python3.5/site-packages/tensorflow/python/training/saver.py:1266: checkpoint_exists (from tensorflow.python.training.checkpoint_management) is deprecated and will be removed in a future version.\n",
      "Instructions for updating:\n",
      "Use standard file APIs to check for files with this prefix.\n",
      "INFO:tensorflow:Restoring parameters from ./models/mnist/lenet/lenet.ckpt-1\n",
      "Accuracy: 94.93333333333334\n"
     ]
    }
   ],
   "source": [
    "y_pred = model.predict(X_test=X_test, model_path='./models/mnist/lenet/', \n",
    "                             function=model.load_model_saved_using_tf_train_saver)\n",
    "model.calculate_accuracy(y_pred, y_test)"
   ]
  },
  {
   "cell_type": "markdown",
   "metadata": {},
   "source": [
    "### b. Load model via tf.saved_model.builder.SavedModelBuilder"
   ]
  },
  {
   "cell_type": "code",
   "execution_count": 6,
   "metadata": {
    "ExecuteTime": {
     "end_time": "2019-05-18T14:54:10.503858Z",
     "start_time": "2019-05-18T14:54:10.161022Z"
    }
   },
   "outputs": [
    {
     "name": "stdout",
     "output_type": "stream",
     "text": [
      "WARNING:tensorflow:From <ipython-input-3-6169c81c479f>:24: load (from tensorflow.python.saved_model.loader_impl) is deprecated and will be removed in a future version.\n",
      "Instructions for updating:\n",
      "This function will only be available through the v1 compatibility library as tf.compat.v1.saved_model.loader.load or tf.compat.v1.saved_model.load. There will be a new function for importing SavedModels in Tensorflow 2.0.\n",
      "INFO:tensorflow:Restoring parameters from ./models/mnist/lenet/using_SavedModelBuilder/variables/variables\n",
      "Accuracy: 94.93333333333334\n"
     ]
    }
   ],
   "source": [
    "y_pred = model.predict(X_test=X_test, model_path='./models/mnist/lenet/using_SavedModelBuilder/', \n",
    "                             function=model.load_model_saved_using_tf_saved_model_builder)\n",
    "model.calculate_accuracy(y_pred, y_test)"
   ]
  },
  {
   "cell_type": "markdown",
   "metadata": {},
   "source": [
    "# References"
   ]
  },
  {
   "cell_type": "markdown",
   "metadata": {},
   "source": [
    "* https://cv-tricks.com/tensorflow-tutorial/save-restore-tensorflow-models-quick-complete-tutorial/\n",
    "* https://medium.com/@jsflo.dev/saving-and-loading-a-tensorflow-model-using-the-savedmodel-api-17645576527\n",
    "* https://blog.metaflow.fr/tensorflow-saving-restoring-and-mixing-multiple-models-c4c94d5d7125"
   ]
  },
  {
   "cell_type": "code",
   "execution_count": null,
   "metadata": {},
   "outputs": [],
   "source": []
  }
 ],
 "metadata": {
  "kernelspec": {
   "display_name": "Python 3",
   "language": "python",
   "name": "python3"
  },
  "language_info": {
   "codemirror_mode": {
    "name": "ipython",
    "version": 3
   },
   "file_extension": ".py",
   "mimetype": "text/x-python",
   "name": "python",
   "nbconvert_exporter": "python",
   "pygments_lexer": "ipython3",
   "version": "3.5.2"
  },
  "varInspector": {
   "cols": {
    "lenName": 16,
    "lenType": 16,
    "lenVar": 40
   },
   "kernels_config": {
    "python": {
     "delete_cmd_postfix": "",
     "delete_cmd_prefix": "del ",
     "library": "var_list.py",
     "varRefreshCmd": "print(var_dic_list())"
    },
    "r": {
     "delete_cmd_postfix": ") ",
     "delete_cmd_prefix": "rm(",
     "library": "var_list.r",
     "varRefreshCmd": "cat(var_dic_list()) "
    }
   },
   "types_to_exclude": [
    "module",
    "function",
    "builtin_function_or_method",
    "instance",
    "_Feature"
   ],
   "window_display": false
  }
 },
 "nbformat": 4,
 "nbformat_minor": 2
}
