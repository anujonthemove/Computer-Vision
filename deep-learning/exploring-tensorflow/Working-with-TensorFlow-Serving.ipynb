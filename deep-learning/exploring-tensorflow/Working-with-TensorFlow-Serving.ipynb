{
 "cells": [
  {
   "cell_type": "markdown",
   "metadata": {},
   "source": [
    "# Working with TensorFlow Serving\n",
    "* This notebook is much related to my other notebooks in this same repository where I have demonstrated how to save a model using saved_model util in TensorFlow. "
   ]
  },
  {
   "cell_type": "markdown",
   "metadata": {},
   "source": [
    "## Necessary imports"
   ]
  },
  {
   "cell_type": "code",
   "execution_count": 1,
   "metadata": {
    "ExecuteTime": {
     "end_time": "2019-05-21T12:40:46.442724Z",
     "start_time": "2019-05-21T12:40:44.860643Z"
    }
   },
   "outputs": [],
   "source": [
    "import tensorflow as tf\n",
    "import numpy as np\n",
    "import matplotlib.pyplot as plt\n",
    "import gzip\n",
    "import os\n",
    "from sklearn.model_selection import train_test_split\n",
    "from sklearn.utils import shuffle\n",
    "from mnist import mnist\n",
    "import json\n",
    "import requests\n",
    "import subprocess"
   ]
  },
  {
   "cell_type": "markdown",
   "metadata": {},
   "source": [
    "## Load data\n",
    "* We need to load test data on which the prediction would be done."
   ]
  },
  {
   "cell_type": "code",
   "execution_count": 2,
   "metadata": {
    "ExecuteTime": {
     "end_time": "2019-05-21T12:40:47.009347Z",
     "start_time": "2019-05-21T12:40:46.445522Z"
    }
   },
   "outputs": [],
   "source": [
    "obj = mnist()\n",
    "X_train, y_train, X_test, y_test = obj.load_data()\n",
    "\n",
    "# split into validation and test set from the test set alone\n",
    "X_test, X_validation, y_test, y_validation = train_test_split(X_test, y_test, random_state=0)"
   ]
  },
  {
   "cell_type": "code",
   "execution_count": 3,
   "metadata": {
    "ExecuteTime": {
     "end_time": "2019-05-21T12:40:47.018255Z",
     "start_time": "2019-05-21T12:40:47.010730Z"
    }
   },
   "outputs": [
    {
     "name": "stdout",
     "output_type": "stream",
     "text": [
      "==== Printing shapes of data ===\n",
      "\n",
      "Train data:       (60000, 32, 32, 1) (60000,)\n",
      "Test data:        (7500, 32, 32, 1) (7500,)\n",
      "Validation data:  (2500, 32, 32, 1) (2500,)\n"
     ]
    }
   ],
   "source": [
    "print('==== Printing shapes of data ===')\n",
    "print()\n",
    "print('Train data:      ', X_train.shape, y_train.shape)\n",
    "print('Test data:       ', X_test.shape, y_test.shape)\n",
    "print('Validation data: ', X_validation.shape, y_validation.shape)"
   ]
  },
  {
   "cell_type": "code",
   "execution_count": 4,
   "metadata": {
    "ExecuteTime": {
     "end_time": "2019-05-21T12:40:47.098969Z",
     "start_time": "2019-05-21T12:40:47.023015Z"
    }
   },
   "outputs": [],
   "source": [
    "def show(idx, X_tmp, y_tmp, title):\n",
    "    image = X_tmp[idx].squeeze()\n",
    "    plt.figure()\n",
    "    \n",
    "    plt.imshow(image)\n",
    "    plt.axis('off')\n",
    "    plt.title('\\n\\n{}'.format(title), fontdict={'size': 16})"
   ]
  },
  {
   "cell_type": "markdown",
   "metadata": {},
   "source": [
    "## Steps to start TensorFlow model server \n",
    "* Ensure the following: \n",
    "    * save model using the saved_model util as shown in [Exploring-TensorFlow-Low-Level-API.ipynb](Exploring-TensorFlow-Low-Level-API.ipynb)\n",
    "    * version your saved model - make an empty directory, rename it to '1' and put the files\n",
    "    obtained above in '1' - this is not an ideal way of doing things, make a script such that everytime you write a model, it writes into a new, version directory, say if you saved model again, then the script should put the new model(and other files) in folder named '2' and so on....\n",
    "\n",
    "* The command below runs server as a background process puts logs in server.log fike:\n",
    "\n",
    "`nohup tensorflow_model_server --rest_api_port=8501 --model_name='lenet_model' --model_base_path='/home/anuj/git/personal/github/Computer-Vision-Playground/deep-learning/exploring-tensorflow/models/mnist/lenet/using_SavedModelBuilder' > server.log 2 >&1 &` \n"
   ]
  },
  {
   "cell_type": "markdown",
   "metadata": {},
   "source": [
    "## Check parameter names\n",
    "* This is another IMPORTANT step - it is requried to get the names of the following:\n",
    "    * ## signature definition\n",
    "    * input tensor name\n",
    "    * ouput tensor name\n",
    "    * saved model tags\n",
    "    * method name\n",
    "* some of these would be required ahead"
   ]
  },
  {
   "cell_type": "code",
   "execution_count": 5,
   "metadata": {
    "ExecuteTime": {
     "end_time": "2019-05-21T12:40:49.602749Z",
     "start_time": "2019-05-21T12:40:47.102991Z"
    }
   },
   "outputs": [
    {
     "name": "stdout",
     "output_type": "stream",
     "text": [
      "\r\n",
      "MetaGraphDef with tag-set: 'serve' contains the following SignatureDefs:\r\n",
      "\r\n",
      "signature_def['predict']:\r\n",
      "  The given SavedModel SignatureDef contains the following input(s):\r\n",
      "    inputs['input'] tensor_info:\r\n",
      "        dtype: DT_FLOAT\r\n",
      "        shape: (-1, 32, 32, 1)\r\n",
      "        name: input:0\r\n",
      "  The given SavedModel SignatureDef contains the following output(s):\r\n",
      "    outputs['output'] tensor_info:\r\n",
      "        dtype: DT_FLOAT\r\n",
      "        shape: (-1, 10)\r\n",
      "        name: output:0\r\n",
      "  Method name is: tensorflow/serving/predict\r\n"
     ]
    }
   ],
   "source": [
    "!saved_model_cli show --dir './models/mnist/lenet/using_SavedModelBuilder/1' --all"
   ]
  },
  {
   "cell_type": "markdown",
   "metadata": {},
   "source": [
    "## Prepare payload - data (.json) and header\n",
    "* Note: the value for signature_name is obtained only after running the above step"
   ]
  },
  {
   "cell_type": "code",
   "execution_count": 6,
   "metadata": {
    "ExecuteTime": {
     "end_time": "2019-05-21T12:40:49.626908Z",
     "start_time": "2019-05-21T12:40:49.609146Z"
    }
   },
   "outputs": [],
   "source": [
    "# prepare header\n",
    "headers = {\"content-type\": \"application/json\"}\n",
    "\n",
    "# prepare data\n",
    "data = json.dumps({\"signature_name\": \"predict\", \"instances\": X_test[0:5].tolist()})"
   ]
  },
  {
   "cell_type": "markdown",
   "metadata": {},
   "source": [
    "## API call to TensorFlow ModelServer\n",
    "* make a post request with payload\n",
    "\n",
    "* Note: API url: http://localhost/8501/v1/models/lenet_model:predict - here `lenet_model` is what we set using the `--model_name` flag while starting the server, and the `predict` is our __signature defination__ \n",
    "\n",
    "* It is a standard form for [Classify and Regress API](https://www.tensorflow.org/tfx/serving/api_rest) like: `http://host:port/v1/models/${MODEL_NAME}[/versions/${MODEL_VERSION}]:(classify|regress)`"
   ]
  },
  {
   "cell_type": "code",
   "execution_count": 7,
   "metadata": {
    "ExecuteTime": {
     "end_time": "2019-05-21T12:40:50.673916Z",
     "start_time": "2019-05-21T12:40:49.636357Z"
    }
   },
   "outputs": [
    {
     "name": "stdout",
     "output_type": "stream",
     "text": [
      "{'predictions': [[6.6702e-09, 2.54642e-05, 1.01885e-05, 0.00156464, 8.38854e-09, 1.18849e-07, 1.89688e-09, 0.998395, 3.94925e-06, 8.92547e-07], [1.54389e-06, 0.999719, 5.25337e-06, 6.29348e-06, 8.02695e-05, 1.4824e-07, 1.47467e-08, 1.65463e-05, 5.21459e-05, 0.00011893], [1.0, 4.52722e-12, 7.89191e-09, 1.81505e-09, 1.32284e-10, 2.22894e-10, 1.03633e-07, 1.32048e-10, 9.39479e-09, 2.9385e-07], [0.839423, 5.56748e-07, 3.56255e-06, 2.79125e-09, 0.00060202, 1.36375e-05, 0.158716, 9.80284e-06, 2.64902e-06, 0.00122877], [0.042825, 3.17963e-06, 0.000558107, 0.325579, 0.000992565, 0.0192002, 0.000795021, 6.07722e-06, 0.571185, 0.0388554]]}\n"
     ]
    }
   ],
   "source": [
    "# send request with payload\n",
    "json_response = requests.post(\n",
    "    'http://localhost:8501/v1/models/lenet_model:predict', \n",
    "    data=data, \n",
    "    headers=headers)\n",
    "\n",
    "# get response (predictions)\n",
    "predictions = json.loads(json_response.text)\n",
    "# check response\n",
    "print(predictions)"
   ]
  },
  {
   "cell_type": "markdown",
   "metadata": {},
   "source": [
    "## Check predictions"
   ]
  },
  {
   "cell_type": "code",
   "execution_count": 8,
   "metadata": {
    "ExecuteTime": {
     "end_time": "2019-05-21T12:40:51.461735Z",
     "start_time": "2019-05-21T12:40:50.677280Z"
    }
   },
   "outputs": [
    {
     "data": {
      "image/png": "[encoded data removed]",
      "text/plain": [
       "<Figure size 432x288 with 1 Axes>"
      ]
     },
     "metadata": {
      "needs_background": "light"
     },
     "output_type": "display_data"
    },
    {
     "data": {
      "image/png": "[encoded data removed]",
      "text/plain": [
       "<Figure size 432x288 with 1 Axes>"
      ]
     },
     "metadata": {
      "needs_background": "light"
     },
     "output_type": "display_data"
    },
    {
     "data": {
      "image/png": "[encoded data removed]",
      "text/plain": [
       "<Figure size 432x288 with 1 Axes>"
      ]
     },
     "metadata": {
      "needs_background": "light"
     },
     "output_type": "display_data"
    },
    {
     "data": {
      "image/png": "[encoded data removed]",
      "text/plain": [
       "<Figure size 432x288 with 1 Axes>"
      ]
     },
     "metadata": {
      "needs_background": "light"
     },
     "output_type": "display_data"
    },
    {
     "data": {
      "image/png": "[encoded data removed]",
      "text/plain": [
       "<Figure size 432x288 with 1 Axes>"
      ]
     },
     "metadata": {
      "needs_background": "light"
     },
     "output_type": "display_data"
    }
   ],
   "source": [
    "num_predictions = len(predictions['predictions'])\n",
    "for idx, pred in enumerate(predictions['predictions']):\n",
    "    y_pred = np.argmax(pred)\n",
    "    show(idx, X_test, y_test, 'The model thought this was number: {}, and it was actually number: {}'.format(\n",
    "        y_pred, y_test[idx]))\n",
    "    \n",
    "# [np.argmax(arr) for arr in predictions]\n",
    "# list(map(np.argmax, predictions))"
   ]
  },
  {
   "cell_type": "markdown",
   "metadata": {},
   "source": [
    "## References"
   ]
  },
  {
   "cell_type": "markdown",
   "metadata": {},
   "source": [
    "* https://colab.research.google.com/github/tensorflow/tfx/blob/master/docs/tutorials/serving/rest_simple.ipynb\n",
    "* https://medium.com/tensorflow/serving-ml-quickly-with-tensorflow-serving-and-docker-7df7094aa008\n",
    "* https://medium.freecodecamp.org/how-to-deploy-tensorflow-models-to-production-using-tf-serving-4b4b78d41700\n",
    "* https://sthalles.github.io/serving_tensorflow_models/"
   ]
  }
 ],
 "metadata": {
  "kernelspec": {
   "display_name": "Python 3",
   "language": "python",
   "name": "python3"
  },
  "language_info": {
   "codemirror_mode": {
    "name": "ipython",
    "version": 3
   },
   "file_extension": ".py",
   "mimetype": "text/x-python",
   "name": "python",
   "nbconvert_exporter": "python",
   "pygments_lexer": "ipython3",
   "version": "3.5.2"
  },
  "varInspector": {
   "cols": {
    "lenName": 16,
    "lenType": 16,
    "lenVar": 40
   },
   "kernels_config": {
    "python": {
     "delete_cmd_postfix": "",
     "delete_cmd_prefix": "del ",
     "library": "var_list.py",
     "varRefreshCmd": "print(var_dic_list())"
    },
    "r": {
     "delete_cmd_postfix": ") ",
     "delete_cmd_prefix": "rm(",
     "library": "var_list.r",
     "varRefreshCmd": "cat(var_dic_list()) "
    }
   },
   "types_to_exclude": [
    "module",
    "function",
    "builtin_function_or_method",
    "instance",
    "_Feature"
   ],
   "window_display": false
  }
 },
 "nbformat": 4,
 "nbformat_minor": 2
}
