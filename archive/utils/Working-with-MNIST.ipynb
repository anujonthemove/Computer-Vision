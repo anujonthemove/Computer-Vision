{
 "cells": [
  {
   "cell_type": "markdown",
   "metadata": {},
   "source": [
    "# Working with MNIST\n",
    "* Exploring how to load MNIST dataset from scratch"
   ]
  },
  {
   "cell_type": "markdown",
   "metadata": {},
   "source": [
    "## Necessary imports"
   ]
  },
  {
   "cell_type": "code",
   "execution_count": 1,
   "metadata": {
    "ExecuteTime": {
     "end_time": "2019-05-08T02:55:57.356736Z",
     "start_time": "2019-05-08T02:55:57.023333Z"
    }
   },
   "outputs": [],
   "source": [
    "import numpy as np\n",
    "import matplotlib.pyplot as plt\n",
    "import gzip\n",
    "import os\n",
    "import multiprocessing\n",
    "from requests import get\n",
    "import pickle"
   ]
  },
  {
   "cell_type": "markdown",
   "metadata": {},
   "source": [
    "## Class for loading MNIST dataset"
   ]
  },
  {
   "cell_type": "code",
   "execution_count": 2,
   "metadata": {
    "ExecuteTime": {
     "end_time": "2019-05-08T02:55:57.373147Z",
     "start_time": "2019-05-08T02:55:57.358293Z"
    }
   },
   "outputs": [],
   "source": [
    "class mnist(object):\n",
    "    def __init__(self):\n",
    "        self.__dataset_urls = ['http://yann.lecun.com/exdb/mnist/train-images-idx3-ubyte.gz',\n",
    "                'http://yann.lecun.com/exdb/mnist/train-labels-idx1-ubyte.gz',\n",
    "                'http://yann.lecun.com/exdb/mnist/t10k-images-idx3-ubyte.gz',\n",
    "                'http://yann.lecun.com/exdb/mnist/t10k-labels-idx1-ubyte.gz']\n",
    "        \n",
    "        self.__training_set = ['train-images-idx3-ubyte.gz', 'train-labels-idx1-ubyte.gz']\n",
    "        self.__test_set = ['t10k-images-idx3-ubyte.gz', 't10k-labels-idx1-ubyte.gz']\n",
    "        self.__dataset = self.__training_set + self.__test_set\n",
    "        self.__dataset_exists = lambda file_list : list(map(os.path.isfile, file_list))\n",
    "    \n",
    "    def __download_file_util(self, url):\n",
    "        file_name = os.path.basename(url)\n",
    "        print('Downloading: ', url)\n",
    "        with open(file_name, 'wb') as file:\n",
    "            response = get(url)\n",
    "            file.write(response.content)\n",
    "    \n",
    "    def __download_dataset(self, dataset_urls):\n",
    "        '''\n",
    "        Initially, I wrote this piece of code but got to know that we need\n",
    "        to do some workaround to be able to use multiprocessing's pool \n",
    "        inside a class. Therefore, the below piece of code doesn't work as expected\n",
    "        \n",
    "        # n_cpu = multiprocessing.cpu_count()\n",
    "        # with multiprocessing.Pool(processes=n_cpu) as pool:\n",
    "        # pool.map(mnist.download_file_util, dataset_urls)\n",
    "\n",
    "        '''\n",
    "        \n",
    "        jobs = []\n",
    "        for url in dataset_urls:\n",
    "            p = multiprocessing.Process(target=self.__download_file_util, args=(url,))\n",
    "            jobs.append(p)\n",
    "            p.start()\n",
    "        \n",
    "        for p in jobs:\n",
    "            p.join()\n",
    "        \n",
    "    def __read_mnist_data(self, dataset):\n",
    "        feature_file_path, label_file_path = (dataset[0], dataset[1])\n",
    "\n",
    "        with gzip.open(label_file_path, 'rb') as label_file:\n",
    "            labels = np.frombuffer(label_file.read(), dtype=np.uint8, offset=8)\n",
    "\n",
    "        with gzip.open(feature_file_path, 'rb') as feature_file:\n",
    "            length = len(labels)\n",
    "            features = np.frombuffer(feature_file.read(), dtype=np.uint8, offset=16).reshape(length, 784)             .reshape(length, 28, 28, 1)\n",
    "\n",
    "        return features, labels\n",
    "    \n",
    "    def load_data(self):\n",
    "        \n",
    "        if not all(self.__dataset_exists(self.__dataset)):\n",
    "            self.__download_dataset(self.__dataset_urls)\n",
    "        \n",
    "        X_train, y_train = self.__read_mnist_data(self.__training_set)\n",
    "        X_test, y_test = self.__read_mnist_data(self.__test_set)\n",
    "        \n",
    "        '''\n",
    "            originally size of image is 28x28\n",
    "            we have to pad it to make it of size 32x32\n",
    "        '''\n",
    "        ## padding \n",
    "        pad_dims = ((0, 0), (2, 2), (2, 2), (0, 0))\n",
    "        pad_type_str = 'constant'\n",
    "        X_train = np.pad(X_train, pad_dims, pad_type_str)\n",
    "        X_test = np.pad(X_test, pad_dims, pad_type_str)\n",
    "        \n",
    "        return X_train, y_train, X_test, y_test\n",
    "    \n",
    "    def display_image(self, idx, X_tmp):\n",
    "        if X_tmp.shape[1:] != (32, 32, 1):\n",
    "            print('Invalid shape image provided')\n",
    "        else:\n",
    "            image = X_tmp[idx].squeeze()\n",
    "            plt.title('Example %d: ' % (idx))\n",
    "            plt.imshow(image, cmap=plt.cm.gray_r)"
   ]
  },
  {
   "cell_type": "markdown",
   "metadata": {},
   "source": [
    "## Initialize"
   ]
  },
  {
   "cell_type": "code",
   "execution_count": 3,
   "metadata": {
    "ExecuteTime": {
     "end_time": "2019-05-08T02:55:58.487664Z",
     "start_time": "2019-05-08T02:55:57.376315Z"
    }
   },
   "outputs": [],
   "source": [
    "mnist_data = mnist()"
   ]
  },
  {
   "cell_type": "markdown",
   "metadata": {},
   "source": [
    "## Load MNIST data "
   ]
  },
  {
   "cell_type": "code",
   "execution_count": 4,
   "metadata": {
    "ExecuteTime": {
     "end_time": "2019-05-08T02:56:47.060606Z",
     "start_time": "2019-05-08T02:55:58.500953Z"
    }
   },
   "outputs": [
    {
     "name": "stdout",
     "output_type": "stream",
     "text": [
      "Downloading:  http://yann.lecun.com/exdb/mnist/train-labels-idx1-ubyte.gz\n",
      "Downloading:  http://yann.lecun.com/exdb/mnist/t10k-images-idx3-ubyte.gz\n",
      "Downloading:  http://yann.lecun.com/exdb/mnist/t10k-labels-idx1-ubyte.gz\n",
      "Downloading:  http://yann.lecun.com/exdb/mnist/train-images-idx3-ubyte.gz\n",
      "==== Printing shapes of data ===\n",
      "\n",
      "Train data:       (60000, 32, 32, 1) (60000,)\n",
      "Test data:        (10000, 32, 32, 1) (10000,)\n"
     ]
    }
   ],
   "source": [
    "X_train, y_train, X_test, y_test = mnist_data.load_data()\n",
    "\n",
    "print('==== Printing shapes of data ===')\n",
    "print()\n",
    "print('Train data:      ', X_train.shape, y_train.shape)\n",
    "print('Test data:       ', X_test.shape, y_test.shape)"
   ]
  },
  {
   "cell_type": "markdown",
   "metadata": {},
   "source": [
    "## Display an image from loaded dataset"
   ]
  },
  {
   "cell_type": "code",
   "execution_count": 5,
   "metadata": {
    "ExecuteTime": {
     "end_time": "2019-05-08T02:56:47.291640Z",
     "start_time": "2019-05-08T02:56:47.063173Z"
    }
   },
   "outputs": [
    {
     "data": {
      "image/png": "[encoded data removed]",
      "text/plain": [
       "<Figure size 432x288 with 1 Axes>"
      ]
     },
     "metadata": {
      "needs_background": "light"
     },
     "output_type": "display_data"
    }
   ],
   "source": [
    "mnist_data.display_image(idx=5, X_tmp=X_train)"
   ]
  },
  {
   "cell_type": "markdown",
   "metadata": {},
   "source": [
    "# References\n",
    "* https://colab.research.google.com/drive/1CVm50PGE4vhtB5I_a_yc4h5F-itKOVL9#scrollTo=1w66ueiLlP0k"
   ]
  },
  {
   "cell_type": "code",
   "execution_count": null,
   "metadata": {},
   "outputs": [],
   "source": []
  }
 ],
 "metadata": {
  "kernelspec": {
   "display_name": "Python 3",
   "language": "python",
   "name": "python3"
  },
  "language_info": {
   "codemirror_mode": {
    "name": "ipython",
    "version": 3
   },
   "file_extension": ".py",
   "mimetype": "text/x-python",
   "name": "python",
   "nbconvert_exporter": "python",
   "pygments_lexer": "ipython3",
   "version": "3.5.2"
  },
  "varInspector": {
   "cols": {
    "lenName": 16,
    "lenType": 16,
    "lenVar": 40
   },
   "kernels_config": {
    "python": {
     "delete_cmd_postfix": "",
     "delete_cmd_prefix": "del ",
     "library": "var_list.py",
     "varRefreshCmd": "print(var_dic_list())"
    },
    "r": {
     "delete_cmd_postfix": ") ",
     "delete_cmd_prefix": "rm(",
     "library": "var_list.r",
     "varRefreshCmd": "cat(var_dic_list()) "
    }
   },
   "types_to_exclude": [
    "module",
    "function",
    "builtin_function_or_method",
    "instance",
    "_Feature"
   ],
   "window_display": false
  }
 },
 "nbformat": 4,
 "nbformat_minor": 2
}
