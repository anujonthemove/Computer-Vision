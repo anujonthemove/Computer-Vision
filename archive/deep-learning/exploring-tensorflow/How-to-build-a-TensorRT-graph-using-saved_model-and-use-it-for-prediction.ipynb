{
 "cells": [
  {
   "cell_type": "markdown",
   "metadata": {},
   "source": [
    "# How to build a TensorRT graph using saved_model API and use it for prediction?"
   ]
  },
  {
   "cell_type": "markdown",
   "metadata": {},
   "source": [
    "## Necessary imports"
   ]
  },
  {
   "cell_type": "code",
   "execution_count": 1,
   "metadata": {
    "ExecuteTime": {
     "end_time": "2019-05-18T14:45:39.684057Z",
     "start_time": "2019-05-18T14:45:37.507317Z"
    }
   },
   "outputs": [],
   "source": [
    "import tensorflow as tf\n",
    "import numpy as np\n",
    "import matplotlib.pyplot as plt\n",
    "import gzip\n",
    "import os, sys\n",
    "import multiprocessing\n",
    "from requests import get\n",
    "import pickle\n",
    "from sklearn.model_selection import train_test_split\n",
    "from sklearn.utils import shuffle\n",
    "from mnist import mnist\n",
    "import tensorflow.contrib.tensorrt as trt\n",
    "import time"
   ]
  },
  {
   "cell_type": "markdown",
   "metadata": {},
   "source": [
    "## Class to work with saved_model"
   ]
  },
  {
   "cell_type": "code",
   "execution_count": 2,
   "metadata": {
    "ExecuteTime": {
     "end_time": "2019-05-18T14:45:39.696818Z",
     "start_time": "2019-05-18T14:45:39.685641Z"
    }
   },
   "outputs": [],
   "source": [
    "class trtUsingSavedModel(object):\n",
    "    def __init__(self, saved_model_dir, saved_model_tag_list, max_batch_size, trt_gpu_allocation_size_in_bytes, precision_mode):\n",
    "         \n",
    "        # config for tensorrt\n",
    "        allowed_precision_modes = ['FP32', 'FP16', 'INT8']\n",
    "        if not precision_mode in allowed_precision_modes:\n",
    "            print('Incorrect precision mode string provided, \\\n",
    "                  please choose one from: {} and try again.'.format(allowed_precision_modes))\n",
    "            sys.exit()\n",
    "\n",
    "        self.max_batch_size = max_batch_size\n",
    "        self.max_workspace_size_bytes = trt_gpu_allocation_size_in_bytes\n",
    "        self.precision_mode = precision_mode\n",
    "\n",
    "        # config for tensorflow \n",
    "        config = tf.ConfigProto(device_count={'GPU':1, 'CPU':3})\n",
    "        config.gpu_options.allow_growth=True\n",
    "        config.gpu_options.per_process_gpu_memory_fraction=0.30\n",
    "\n",
    "        # from saved_model to trt graph\n",
    "        self.graph = self.import_from_graph_def(self.saved_modelToTRTGraph(saved_model_dir, saved_model_tag_list))\n",
    "        \n",
    "        self.sess = tf.Session(graph=self.graph, config=config)\n",
    "        \n",
    "        self.x = self.graph.get_tensor_by_name('input:0')\n",
    "        self.y = self.graph.get_tensor_by_name('output:0')\n",
    "        \n",
    "    def saved_modelToTRTGraph(self, saved_model_dir, saved_model_tag_list):\n",
    "        # Create a TensorRT inference graph from a SavedModel:\n",
    "        trt_graph = trt.create_inference_graph(\n",
    "            input_graph_def=None,\n",
    "            outputs=None,\n",
    "            input_saved_model_dir=saved_model_dir,\n",
    "            input_saved_model_tags=saved_model_tag_list,\n",
    "            max_batch_size=self.max_batch_size,\n",
    "            max_workspace_size_bytes=self.max_workspace_size_bytes,\n",
    "            precision_mode=self.precision_mode\n",
    "        )\n",
    "        \n",
    "        print(\"saved_model successfully converted to TensorRT model!\")\n",
    "        print()\n",
    "        \n",
    "        print('=== INFO ===')\n",
    "        # check how many ops that is converted to TensorRT engine\n",
    "        trt_engine_nodes = len([1 for n in trt_graph.node if str(n.op) == 'TRTEngineOp'])\n",
    "        print(\"numb. of trt_engine_nodes in TensorRT graph:\", trt_engine_nodes)\n",
    "        all_nodes = len([1 for n in trt_graph.node])\n",
    "        print(\"numb. of all_nodes in TensorRT graph:\", all_nodes)\n",
    "        print('Node names:', [n.name for n in trt_graph.node])\n",
    "        \n",
    "        return trt_graph\n",
    "    \n",
    "    def import_from_graph_def(self, trt_graph):\n",
    "        with tf.Graph().as_default() as graph:\n",
    "            tf.import_graph_def(trt_graph, name='')\n",
    "        return graph\n",
    "    \n",
    "    def calculate_accuracy(self, y_pred, y_test):\n",
    "        correct_instances = np.where(y_test == y_pred)[0].shape[0]\n",
    "        total_instances = y_test.shape[0]\n",
    "        accuracy = float(correct_instances)/total_instances\n",
    "        print('Accuracy: {}'.format(accuracy*100.0))    \n",
    "    \n",
    "    def predict_using_loaded_graph(self, X_test):\n",
    "        return np.argmax(self.sess.run(self.y, feed_dict={self.x: X_test}), axis=1)"
   ]
  },
  {
   "cell_type": "markdown",
   "metadata": {},
   "source": [
    "## Load MNIST data"
   ]
  },
  {
   "cell_type": "code",
   "execution_count": 3,
   "metadata": {
    "ExecuteTime": {
     "end_time": "2019-05-18T14:45:41.447992Z",
     "start_time": "2019-05-18T14:45:39.701414Z"
    }
   },
   "outputs": [],
   "source": [
    "obj = mnist()\n",
    "X_train, y_train, X_test, y_test = obj.load_data()\n",
    "\n",
    "# split into validation and test set from the test set alone\n",
    "X_test, X_validation, y_test, y_validation = train_test_split(X_test, y_test, random_state=0)"
   ]
  },
  {
   "cell_type": "code",
   "execution_count": 4,
   "metadata": {
    "ExecuteTime": {
     "end_time": "2019-05-18T14:45:41.461459Z",
     "start_time": "2019-05-18T14:45:41.451031Z"
    }
   },
   "outputs": [
    {
     "name": "stdout",
     "output_type": "stream",
     "text": [
      "==== Printing shapes of data ===\n",
      "\n",
      "Train data:       (60000, 32, 32, 1) (60000,)\n",
      "Test data:        (7500, 32, 32, 1) (7500,)\n",
      "Validation data:  (2500, 32, 32, 1) (2500,)\n"
     ]
    }
   ],
   "source": [
    "print('==== Printing shapes of data ===')\n",
    "print()\n",
    "print('Train data:      ', X_train.shape, y_train.shape)\n",
    "print('Test data:       ', X_test.shape, y_test.shape)\n",
    "print('Validation data: ', X_validation.shape, y_validation.shape)"
   ]
  },
  {
   "cell_type": "markdown",
   "metadata": {},
   "source": [
    "## Instantiate class with necessary parameters\n",
    "* There are a few very important parameters to be taken care of when freezing a TensorRT graph, they are:    \n",
    "    * input_saved_model_dir\n",
    "    * input_saved_model_tags\n",
    "    * max_batch_size\n",
    "    * trt_gpu_allocation_size_in_bytes\n",
    "    * precision_mode\n",
    "* __Note:__ In this implementation we also need to set the following positional arguments for *create_inference_graph* function  to *__'None'__*\n",
    "    * input_graph_def\n",
    "    * outputs"
   ]
  },
  {
   "cell_type": "code",
   "execution_count": 5,
   "metadata": {
    "ExecuteTime": {
     "end_time": "2019-05-18T14:45:44.777092Z",
     "start_time": "2019-05-18T14:45:41.464151Z"
    }
   },
   "outputs": [
    {
     "name": "stdout",
     "output_type": "stream",
     "text": [
      "INFO:tensorflow:Running against TensorRT version 5.0.2\n",
      "WARNING:tensorflow:From /home/anuj/.virtualenvs/analytics-3/lib/python3.5/site-packages/tensorflow/python/training/saver.py:1266: checkpoint_exists (from tensorflow.python.training.checkpoint_management) is deprecated and will be removed in a future version.\n",
      "Instructions for updating:\n",
      "Use standard file APIs to check for files with this prefix.\n",
      "INFO:tensorflow:Restoring parameters from ./models/mnist/lenet/using_SavedModelBuilder/variables/variables\n",
      "WARNING:tensorflow:From /home/anuj/.virtualenvs/analytics-3/lib/python3.5/site-packages/tensorflow/contrib/tensorrt/python/trt_convert.py:301: convert_variables_to_constants (from tensorflow.python.framework.graph_util_impl) is deprecated and will be removed in a future version.\n",
      "Instructions for updating:\n",
      "Use tf.compat.v1.graph_util.convert_variables_to_constants\n",
      "WARNING:tensorflow:From /home/anuj/.virtualenvs/analytics-3/lib/python3.5/site-packages/tensorflow/python/framework/graph_util_impl.py:245: extract_sub_graph (from tensorflow.python.framework.graph_util_impl) is deprecated and will be removed in a future version.\n",
      "Instructions for updating:\n",
      "Use tf.compat.v1.graph_util.extract_sub_graph\n",
      "INFO:tensorflow:Froze 10 variables.\n",
      "INFO:tensorflow:Converted 10 variables to const ops.\n",
      "saved_model successfully converted to TensorRT model!\n",
      "\n",
      "=== INFO ===\n",
      "numb. of trt_engine_nodes in TensorRT graph: 1\n",
      "numb. of all_nodes in TensorRT graph: 3\n",
      "Node names: ['input', 'TRTEngineOp_0', 'output']\n"
     ]
    }
   ],
   "source": [
    "model = trtUsingSavedModel('./models/mnist/lenet/using_SavedModelBuilder/', ['serve'], max_batch_size=2, trt_gpu_allocation_size_in_bytes=1 << 25, precision_mode='FP32')"
   ]
  },
  {
   "cell_type": "markdown",
   "metadata": {},
   "source": [
    "## Predict using TensorRT model"
   ]
  },
  {
   "cell_type": "code",
   "execution_count": 6,
   "metadata": {
    "ExecuteTime": {
     "end_time": "2019-05-18T14:45:45.970416Z",
     "start_time": "2019-05-18T14:45:44.780199Z"
    }
   },
   "outputs": [
    {
     "name": "stdout",
     "output_type": "stream",
     "text": [
      "Accuracy: 95.94666666666667\n",
      "Exec time for TensorRT:  1.1846463680267334\n"
     ]
    }
   ],
   "source": [
    "t1 = time.time()\n",
    "y_pred = model.predict_using_loaded_graph(X_test)\n",
    "model.calculate_accuracy(y_pred, y_test)\n",
    "t2 = time.time()\n",
    "\n",
    "print('Exec time for TensorRT: ', t2-t1)"
   ]
  },
  {
   "cell_type": "markdown",
   "metadata": {},
   "source": [
    "## References "
   ]
  },
  {
   "cell_type": "markdown",
   "metadata": {},
   "source": [
    "* https://docs.nvidia.com/deeplearning/dgx/tf-trt-user-guide/index.html#capabilities"
   ]
  }
 ],
 "metadata": {
  "kernelspec": {
   "display_name": "Python 3",
   "language": "python",
   "name": "python3"
  },
  "language_info": {
   "codemirror_mode": {
    "name": "ipython",
    "version": 3
   },
   "file_extension": ".py",
   "mimetype": "text/x-python",
   "name": "python",
   "nbconvert_exporter": "python",
   "pygments_lexer": "ipython3",
   "version": "3.5.2"
  },
  "varInspector": {
   "cols": {
    "lenName": 16,
    "lenType": 16,
    "lenVar": 40
   },
   "kernels_config": {
    "python": {
     "delete_cmd_postfix": "",
     "delete_cmd_prefix": "del ",
     "library": "var_list.py",
     "varRefreshCmd": "print(var_dic_list())"
    },
    "r": {
     "delete_cmd_postfix": ") ",
     "delete_cmd_prefix": "rm(",
     "library": "var_list.r",
     "varRefreshCmd": "cat(var_dic_list()) "
    }
   },
   "types_to_exclude": [
    "module",
    "function",
    "builtin_function_or_method",
    "instance",
    "_Feature"
   ],
   "window_display": false
  }
 },
 "nbformat": 4,
 "nbformat_minor": 2
}
