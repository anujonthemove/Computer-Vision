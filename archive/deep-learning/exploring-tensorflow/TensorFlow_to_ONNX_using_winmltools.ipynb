{
 "cells": [
  {
   "cell_type": "markdown",
   "metadata": {},
   "source": [
    "# Convert a TensorFlow model to ONNX format using [Windows ML](https://github.com/microsoft/Windows-Machine-Learning)\n",
    "* Taken from: https://docs.microsoft.com/en-us/windows/ai/windows-ml/convert-model-winmltools#convert-tensorflow-models\n",
    "* *Running the example directly from the above documentation throws some error but with minor fixes the code works.*\n",
    "* **NOTE**: I have only attempted model conversion, yet to test how it works.\n",
    "* Deep dive into the Source code for other possible conversions [here](https://github.com/microsoft/Windows-Machine-Learning/blob/c729952781fa4e914f900d40e9a277bac9ebaaaf/Tools/WinMLDashboard/public/convert.py)"
   ]
  },
  {
   "cell_type": "code",
   "execution_count": 1,
   "metadata": {
    "ExecuteTime": {
     "end_time": "2019-06-04T10:24:41.704231Z",
     "start_time": "2019-06-04T10:24:40.347640Z"
    }
   },
   "outputs": [],
   "source": [
    "import winmltools\n",
    "import tensorflow as tf\n",
    "from tensorflow.core.framework import graph_pb2 # <- this import was missing "
   ]
  },
  {
   "cell_type": "code",
   "execution_count": 2,
   "metadata": {
    "ExecuteTime": {
     "end_time": "2019-06-04T10:24:41.709964Z",
     "start_time": "2019-06-04T10:24:41.706412Z"
    }
   },
   "outputs": [],
   "source": [
    "filename = './models/mnist/lenet/frozen_model.pb'\n",
    "output_names = ['output:0'] # <- my sample mnist model also has the same tensorname therefore using it as is here\n",
    "onnx_file_path = './models/mnist/lenet/lenet_onnx.onnx' # <- in the original example, this was not provided"
   ]
  },
  {
   "cell_type": "code",
   "execution_count": 3,
   "metadata": {
    "ExecuteTime": {
     "end_time": "2019-06-04T10:24:41.857563Z",
     "start_time": "2019-06-04T10:24:41.713303Z"
    }
   },
   "outputs": [],
   "source": [
    "graph_def = graph_pb2.GraphDef()\n",
    "with open(filename, 'rb') as file:\n",
    "    graph_def.ParseFromString(file.read())\n",
    "g = tf.import_graph_def(graph_def, name='')"
   ]
  },
  {
   "cell_type": "code",
   "execution_count": 4,
   "metadata": {
    "ExecuteTime": {
     "end_time": "2019-06-04T10:24:42.268313Z",
     "start_time": "2019-06-04T10:24:41.860320Z"
    }
   },
   "outputs": [],
   "source": [
    "with tf.Session(graph=g) as sess:\n",
    "    converted_model = winmltools.convert_tensorflow(sess.graph, 7, output_names=['output:0'])\n",
    "    winmltools.save_model(converted_model, file_path=onnx_file_path)"
   ]
  },
  {
   "cell_type": "markdown",
   "metadata": {},
   "source": [
    "## References\n",
    "* https://github.com/tensorflow/tensorflow/issues/61"
   ]
  },
  {
   "cell_type": "code",
   "execution_count": null,
   "metadata": {},
   "outputs": [],
   "source": []
  }
 ],
 "metadata": {
  "kernelspec": {
   "display_name": "Python 3",
   "language": "python",
   "name": "python3"
  },
  "language_info": {
   "codemirror_mode": {
    "name": "ipython",
    "version": 3
   },
   "file_extension": ".py",
   "mimetype": "text/x-python",
   "name": "python",
   "nbconvert_exporter": "python",
   "pygments_lexer": "ipython3",
   "version": "3.5.2"
  },
  "varInspector": {
   "cols": {
    "lenName": 16,
    "lenType": 16,
    "lenVar": 40
   },
   "kernels_config": {
    "python": {
     "delete_cmd_postfix": "",
     "delete_cmd_prefix": "del ",
     "library": "var_list.py",
     "varRefreshCmd": "print(var_dic_list())"
    },
    "r": {
     "delete_cmd_postfix": ") ",
     "delete_cmd_prefix": "rm(",
     "library": "var_list.r",
     "varRefreshCmd": "cat(var_dic_list()) "
    }
   },
   "types_to_exclude": [
    "module",
    "function",
    "builtin_function_or_method",
    "instance",
    "_Feature"
   ],
   "window_display": false
  }
 },
 "nbformat": 4,
 "nbformat_minor": 2
}
