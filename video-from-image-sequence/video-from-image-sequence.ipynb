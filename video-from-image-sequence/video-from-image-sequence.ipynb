{
 "cells": [
  {
   "cell_type": "code",
   "execution_count": 2,
   "metadata": {},
   "outputs": [],
   "source": [
    "import cv2\n",
    "import numpy as np\n",
    "import os"
   ]
  },
  {
   "cell_type": "code",
   "execution_count": 3,
   "metadata": {},
   "outputs": [
    {
     "name": "stderr",
     "output_type": "stream",
     "text": [
      "OpenCV: FFMPEG: tag 0x47504a4d/'MJPG' is not supported with codec id 7 and format 'mp4 / MP4 (MPEG-4 Part 14)'\n",
      "OpenCV: FFMPEG: fallback to use tag 0x7634706d/'mp4v'\n"
     ]
    }
   ],
   "source": [
    "def images_to_video(image_directory, output_video, fps=30, display=False):\n",
    "    \"\"\"\n",
    "    Convert a sequence of images into a video.\n",
    "\n",
    "    Args:\n",
    "        image_directory (str): Path to the directory containing image files.\n",
    "        output_video (str): Output video file path.\n",
    "        fps (int): Frames per second for the output video.\n",
    "    \"\"\"\n",
    "    if not os.path.exists(image_directory):\n",
    "        print(f\"Error: The directory '{image_directory}' does not exist.\")\n",
    "        return\n",
    "\n",
    "    image_files = sorted(os.listdir(image_directory))\n",
    "    \n",
    "    if not image_files:\n",
    "        print(f\"Error: No image files found in '{image_directory}'.\")\n",
    "        return\n",
    "\n",
    "    first_image = cv2.imread(os.path.join(image_directory, image_files[0]))\n",
    "    height, width, _ = first_image.shape\n",
    "\n",
    "    fourcc = cv2.VideoWriter_fourcc(*'MJPG')\n",
    "    out = cv2.VideoWriter(output_video, fourcc, fps, (width, height))\n",
    "\n",
    "    try:\n",
    "        for image_file in image_files:\n",
    "            image = cv2.imread(os.path.join(image_directory, image_file))\n",
    "            out.write(image)\n",
    "\n",
    "            if display:\n",
    "                cv2.namedWindow(\"image\", cv2.WINDOW_KEEPRATIO)\n",
    "                cv2.imshow('image', image)\n",
    "                \n",
    "                k = cv2.waitKey(1)\n",
    "                if k == 27:  # 'Esc' key\n",
    "                    break\n",
    "\n",
    "    except KeyboardInterrupt:\n",
    "        pass\n",
    "\n",
    "    out.release()\n",
    "    cv2.destroyAllWindows()"
   ]
  },
  {
   "cell_type": "code",
   "execution_count": null,
   "metadata": {},
   "outputs": [],
   "source": [
    "if __name__ == \"__main__\":\n",
    "    fps = 30\n",
    "    path_to_images = 'path/to/images'\n",
    "    video_name = 'video.mp4'\n",
    "    images_to_video(path_to_images, video_name, fps, display=True)\n"
   ]
  }
 ],
 "metadata": {
  "kernelspec": {
   "display_name": "cv",
   "language": "python",
   "name": "python3"
  },
  "language_info": {
   "codemirror_mode": {
    "name": "ipython",
    "version": 3
   },
   "file_extension": ".py",
   "mimetype": "text/x-python",
   "name": "python",
   "nbconvert_exporter": "python",
   "pygments_lexer": "ipython3",
   "version": "3.10.12"
  }
 },
 "nbformat": 4,
 "nbformat_minor": 2
}
