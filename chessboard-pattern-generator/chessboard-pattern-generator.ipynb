{
 "cells": [
  {
   "cell_type": "markdown",
   "metadata": {},
   "source": [
    "# Generate Chessboard Pattern\n",
    "\n",
    "This code generates a chessboard pattern of specified dimensions, visualizes it, and saves the visualization as a PDF file."
   ]
  },
  {
   "cell_type": "code",
   "execution_count": 1,
   "metadata": {},
   "outputs": [],
   "source": [
    "import numpy as np\n",
    "import matplotlib.pyplot as plt\n",
    "from matplotlib.backends.backend_pdf import PdfPages"
   ]
  },
  {
   "cell_type": "code",
   "execution_count": 2,
   "metadata": {},
   "outputs": [],
   "source": [
    "def create_chessboard_pattern(rows, cols, square_size, pdf_filename):\n",
    "    # Create a chessboard pattern\n",
    "    chessboard = np.zeros((rows * square_size, cols * square_size), dtype=np.uint8)\n",
    "    chessboard[1::2, ::2] = 255\n",
    "    chessboard[::2, 1::2] = 255\n",
    "\n",
    "    # Create an image with the chessboard pattern\n",
    "    image = np.stack([chessboard] * 3, axis=-1)\n",
    "\n",
    "    # Visualize and save the chessboard pattern as a PDF file\n",
    "    with PdfPages(pdf_filename) as pdf:\n",
    "        plt.imshow(image, cmap='gray')\n",
    "        plt.axis('off')\n",
    "        pdf.savefig()\n",
    "        plt.close()\n",
    "\n",
    "    print(f\"Chessboard pattern saved as '{pdf_filename}'\")"
   ]
  },
  {
   "cell_type": "code",
   "execution_count": 3,
   "metadata": {},
   "outputs": [
    {
     "name": "stdout",
     "output_type": "stream",
     "text": [
      "Chessboard pattern saved as 'chessboard_pattern.pdf'\n"
     ]
    }
   ],
   "source": [
    "# Chessboard parameters\n",
    "rows = 6\n",
    "cols = 9\n",
    "square_size = 1\n",
    "pdf_filename = \"chessboard_pattern.pdf\"\n",
    "\n",
    "create_chessboard_pattern(rows, cols, square_size, pdf_filename)"
   ]
  }
 ],
 "metadata": {
  "kernelspec": {
   "display_name": "cv",
   "language": "python",
   "name": "python3"
  },
  "language_info": {
   "codemirror_mode": {
    "name": "ipython",
    "version": 3
   },
   "file_extension": ".py",
   "mimetype": "text/x-python",
   "name": "python",
   "nbconvert_exporter": "python",
   "pygments_lexer": "ipython3",
   "version": "3.10.12"
  },
  "orig_nbformat": 4
 },
 "nbformat": 4,
 "nbformat_minor": 2
}
