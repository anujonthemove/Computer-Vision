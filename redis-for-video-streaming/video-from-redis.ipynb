{
 "cells": [
  {
   "cell_type": "code",
   "execution_count": 14,
   "metadata": {},
   "outputs": [],
   "source": [
    "import base64\n",
    "import cv2\n",
    "import numpy as np\n",
    "import redis\n",
    "import pickle\n",
    "import multiprocessing\n",
    "import logging"
   ]
  },
  {
   "cell_type": "code",
   "execution_count": 15,
   "metadata": {},
   "outputs": [],
   "source": [
    "class Reader:\n",
    "\n",
    "    def __init__(self):\n",
    "        self.__store = redis.Redis()\n",
    "    \n",
    "    def reader(self, image_key, shape_key):\n",
    "        while True:\n",
    "            encoded_image = self.__store.get(image_key)\n",
    "            encoded_image_shape = pickle.loads(self.__store.get(shape_key))\n",
    "\n",
    "            decoded_image = base64.b64decode(encoded_image)\n",
    "            decoded_image = np.frombuffer(decoded_image, dtype=np.uint8)\n",
    "            reshaped_decoded_image = decoded_image.reshape(encoded_image_shape)\n",
    "\n",
    "            cv2.imshow(\"Video From Redis\", reshaped_decoded_image)\n",
    "            k = cv2.waitKey(1)\n",
    "\n",
    "            if k == 27:\n",
    "                cv2.destroyAllWindows()\n",
    "                break\n",
    "            \n",
    "        cv2.destroyAllWindows()\n",
    "    \n",
    "    def run(self):\n",
    "        image_key_list = [\"cam_0\", \"cam_1\"]\n",
    "        image_shape_key_list = [\"shape_0\", \"shape_1\"]\n",
    "\n",
    "        jobs = []\n",
    "        for image_key, shape_key in zip(image_key_list, image_shape_key_list):\n",
    "            p = multiprocessing.Process(target=self.reader, args=(image_key, shape_key,))\n",
    "            p.start()\n",
    "            jobs.append(p)\n",
    "\n",
    "        \n",
    "        for p in jobs:\n",
    "            p.join()"
   ]
  },
  {
   "cell_type": "code",
   "execution_count": 16,
   "metadata": {},
   "outputs": [],
   "source": [
    "if __name__ == '__main__':\n",
    "\tobj = Reader()\n",
    "\tobj.run()"
   ]
  }
 ],
 "metadata": {
  "kernelspec": {
   "display_name": "cv",
   "language": "python",
   "name": "python3"
  },
  "language_info": {
   "codemirror_mode": {
    "name": "ipython",
    "version": 3
   },
   "file_extension": ".py",
   "mimetype": "text/x-python",
   "name": "python",
   "nbconvert_exporter": "python",
   "pygments_lexer": "ipython3",
   "version": "3.10.12"
  }
 },
 "nbformat": 4,
 "nbformat_minor": 2
}
