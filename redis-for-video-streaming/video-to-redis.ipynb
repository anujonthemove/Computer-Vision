{
 "cells": [
  {
   "cell_type": "code",
   "execution_count": null,
   "metadata": {},
   "outputs": [],
   "source": [
    "import base64\n",
    "import cv2\n",
    "import numpy as np\n",
    "import sys\n",
    "import coils\n",
    "import redis\n",
    "import pickle\n",
    "import multiprocessing "
   ]
  },
  {
   "cell_type": "code",
   "execution_count": null,
   "metadata": {},
   "outputs": [],
   "source": [
    "cam_name = \"cam_\"\n",
    "shape_name = \"shape_\""
   ]
  },
  {
   "cell_type": "code",
   "execution_count": null,
   "metadata": {},
   "outputs": [],
   "source": [
    "class Writer:\n",
    "\n",
    "\tdef __init__(self):\n",
    "\t\tself.__store = redis.Redis()\n",
    "\n",
    "\tdef writer(self, video_path, idx):\n",
    "\t\t\n",
    "\t\tcap = cv2.VideoCapture(video_path)\n",
    "\t\t\n",
    "\t\t# Monitor the framerate at 1s, 5s, 10s intervals.\n",
    "\t\tfps = coils.RateTicker((1, 5, 10))\n",
    "\n",
    "\t\twhile True:\n",
    "\t\t\tret, frame = cap.read()\n",
    "\t\t\tif not ret:\n",
    "\t\t\t\tbreak\n",
    "\n",
    "\t\t\th, w, c = frame.shape\n",
    "\n",
    "\t\t\t# reshape or flatten the frame into a string\n",
    "\t\t\treshaped_image = frame.reshape(1, -1)\n",
    "\t\t\t\n",
    "\t\t\t# base encode string \n",
    "\t\t\t# encoded_image = base64.b64encode(res_img).decode(\"utf-8\")\n",
    "\t\t\tencoded_image = base64.b64encode(reshaped_image.tobytes())\n",
    "\t\t\t\n",
    "\t\t\t# store the encoded image against corresponding video/camera name - key-value pairs\n",
    "\t\t\tself.__store.set(cam_name+idx, encoded_image)\n",
    "\t\t\t# store shape of each frame with corresponding camera/video name string\n",
    "\t\t\tself.__store.set(shape_name+idx, pickle.dumps((h, w, c)))\n",
    "\t\t\t\n",
    "\t\t\tcv2.imshow('Video To Redis', frame)\n",
    "\n",
    "\t\t\tk = cv2.waitKey(1)\n",
    "\n",
    "\t\t\tif k == 27:\n",
    "\t\t\t\tcv2.destroyAllWindows()\n",
    "\t\t\t\tcap.release()\n",
    "\t\t\t\tbreak\n",
    "\n",
    "\t\t\ttext = '{:.2f}, {:.2f}, {:.2f} fps'.format(*fps.tick())\n",
    "\n",
    "\t\t\tprint(text)\n",
    "\n",
    "\t\tcap.release()\n",
    "\n",
    "\n",
    "\tdef run(self):\n",
    "\t\tvideo_list = ['/home/acer/workspace/videos/Eng_Store_vid.mp4', '/home/acer/workspace/videos/Hot_Mill_View_vid.mp4']\n",
    "\t\tprocesses = []\n",
    "\n",
    "\t\tfor i, video_path in enumerate(video_list):\n",
    "\t\t\tp = multiprocessing.Process(target=self.writer, args=(video_path, str(i),))\n",
    "\t\t\tp.start()\n",
    "\t\t\tprocesses.append(p)\n",
    "\n",
    "\t\tfor p in processes:\n",
    "\t\t\tp.join()\n"
   ]
  },
  {
   "cell_type": "code",
   "execution_count": null,
   "metadata": {},
   "outputs": [],
   "source": [
    "if __name__ == '__main__':\n",
    "    obj = Writer()\n",
    "    obj.run()"
   ]
  }
 ],
 "metadata": {
  "kernelspec": {
   "display_name": "cv",
   "language": "python",
   "name": "python3"
  },
  "language_info": {
   "codemirror_mode": {
    "name": "ipython",
    "version": 3
   },
   "file_extension": ".py",
   "mimetype": "text/x-python",
   "name": "python",
   "nbconvert_exporter": "python",
   "pygments_lexer": "ipython3",
   "version": "3.10.12"
  }
 },
 "nbformat": 4,
 "nbformat_minor": 2
}
