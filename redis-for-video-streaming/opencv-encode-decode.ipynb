{
 "cells": [
  {
   "cell_type": "code",
   "execution_count": 16,
   "metadata": {},
   "outputs": [],
   "source": [
    "import cv2\n",
    "import numpy as np\n",
    "from pathlib import Path"
   ]
  },
  {
   "cell_type": "code",
   "execution_count": 17,
   "metadata": {},
   "outputs": [],
   "source": [
    "path_to_image = '/home/acer/workspace/images/unnamed.jpg'\n",
    "path_to_image = '/home/acer/workspace/images/opencv.png'\n",
    "extn = Path(path_to_image).suffix # with this it can work for both jpg and png images"
   ]
  },
  {
   "cell_type": "code",
   "execution_count": 18,
   "metadata": {},
   "outputs": [
    {
     "name": "stdout",
     "output_type": "stream",
     "text": [
      "Original image shape: (1024, 831, 3)\n",
      "Encoded image shape: 28418\n",
      "Decoded image shape: (1024, 831, 3)\n"
     ]
    }
   ],
   "source": [
    "image = cv2.imread(path_to_image)\n",
    "print('Original image shape:', image.shape)\n",
    "\n",
    "_, imenc_image = cv2.imencode(extn, image)\n",
    "imenc_image = imenc_image.tobytes()  # Convert to bytes\n",
    "print('Encoded image shape:', len(imenc_image))\n",
    "\n",
    "\n",
    "image_np_array = np.frombuffer(imenc_image, dtype=np.uint8)\n",
    "imdec_img = cv2.imdecode(image_np_array, cv2.IMREAD_COLOR)\n",
    "print('Decoded image shape:', imdec_img.shape)\n",
    "\n",
    "\n",
    "# Show the decoded image (optional)\n",
    "cv2.imshow(\"Original Image\", image)\n",
    "cv2.imshow(\"Decoded Image\", imdec_img)\n",
    "cv2.waitKey(0)\n",
    "cv2.destroyAllWindows()"
   ]
  }
 ],
 "metadata": {
  "kernelspec": {
   "display_name": "cv",
   "language": "python",
   "name": "python3"
  },
  "language_info": {
   "codemirror_mode": {
    "name": "ipython",
    "version": 3
   },
   "file_extension": ".py",
   "mimetype": "text/x-python",
   "name": "python",
   "nbconvert_exporter": "python",
   "pygments_lexer": "ipython3",
   "version": "3.10.12"
  }
 },
 "nbformat": 4,
 "nbformat_minor": 2
}
