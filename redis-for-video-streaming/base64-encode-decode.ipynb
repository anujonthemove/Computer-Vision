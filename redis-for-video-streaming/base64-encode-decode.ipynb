{
 "cells": [
  {
   "cell_type": "code",
   "execution_count": 1,
   "metadata": {},
   "outputs": [],
   "source": [
    "import cv2\n",
    "import numpy as np\n",
    "import base64"
   ]
  },
  {
   "cell_type": "code",
   "execution_count": 2,
   "metadata": {},
   "outputs": [],
   "source": [
    "path_to_image = '/home/acer/workspace/images/unnamed.jpg'"
   ]
  },
  {
   "cell_type": "code",
   "execution_count": 3,
   "metadata": {},
   "outputs": [
    {
     "name": "stdout",
     "output_type": "stream",
     "text": [
      "Original image shape: (240, 320, 3)\n",
      "Original image dtype: uint8\n",
      "Decoded image shape: (240, 320, 3)\n",
      "Decoded image dtype: uint8\n"
     ]
    }
   ],
   "source": [
    "image = cv2.imread(path_to_image)\n",
    "\n",
    "w, h, c = image.shape\n",
    "print('Original image shape:', (w, h, c))\n",
    "\n",
    "image_dtype = image.dtype\n",
    "print('Original image dtype:', image_dtype)\n",
    "\n",
    "reshaped_org_image = image.reshape(w * h * c)\n",
    "\n",
    "# encode\n",
    "# enc_image = base64.b64encode(reshaped_org_image.tobytes()).decode(\"utf-8\") - this is not required\n",
    "enc_image = base64.b64encode(reshaped_org_image.tobytes())\n",
    "\n",
    "# decode\n",
    "dec_image = base64.b64decode(enc_image)\n",
    "dec_image = np.frombuffer(dec_image, dtype=image_dtype)\n",
    "\n",
    "# reshape\n",
    "reshaped_dec_image = dec_image.reshape(w, h, c)\n",
    "\n",
    "print('Decoded image shape:', reshaped_dec_image.shape)\n",
    "\n",
    "reshaped_dec_image_dtype = reshaped_dec_image.dtype\n",
    "print('Decoded image dtype:', reshaped_dec_image_dtype)\n",
    "\n",
    "\n",
    "cv2.imshow('Original Image', image)\n",
    "cv2.imshow('Decoded Image', reshaped_dec_image)\n",
    "cv2.waitKey(0)\n",
    "cv2.destroyAllWindows()"
   ]
  }
 ],
 "metadata": {
  "kernelspec": {
   "display_name": "cv",
   "language": "python",
   "name": "python3"
  },
  "language_info": {
   "codemirror_mode": {
    "name": "ipython",
    "version": 3
   },
   "file_extension": ".py",
   "mimetype": "text/x-python",
   "name": "python",
   "nbconvert_exporter": "python",
   "pygments_lexer": "ipython3",
   "version": "3.10.12"
  }
 },
 "nbformat": 4,
 "nbformat_minor": 2
}
