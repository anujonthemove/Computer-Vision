{
 "cells": [
  {
   "cell_type": "code",
   "execution_count": 1,
   "metadata": {},
   "outputs": [],
   "source": [
    "import cv2"
   ]
  },
  {
   "cell_type": "code",
   "execution_count": 2,
   "metadata": {},
   "outputs": [],
   "source": [
    "def put_text_with_background(image, instructions, cv_font=cv2.FONT_HERSHEY_PLAIN, position=\"top-right\"):\n",
    "    if image is None:\n",
    "        raise ValueError(\"Input image is None.\")\n",
    "\n",
    "    font = cv_font\n",
    "    image_with_instructions = image.copy()\n",
    "    height, width, _ = image_with_instructions.shape\n",
    "\n",
    "    text_size = cv2.getTextSize(max(instructions, key=len), font, 1, 2)[0]\n",
    "    padding = 10\n",
    "    bg_height = len(instructions) * text_size[1] + padding * 2\n",
    "    bg_width = text_size[0] + padding * 3\n",
    "\n",
    "    position_mapping = {\n",
    "        \"top-left\": (0, 0),\n",
    "        \"top-right\": (width - bg_width, 0),\n",
    "        \"bottom-left\": (0, height - bg_height),\n",
    "        \"bottom-right\": (width - bg_width, height - bg_height),\n",
    "        \"center\": ((width - bg_width) // 2, (height - bg_height) // 2)\n",
    "    }\n",
    "\n",
    "    if position not in position_mapping:\n",
    "        raise ValueError(\"Invalid position. Supported positions: 'top-left', 'top-right', 'bottom-left', 'bottom-right', 'center'\")\n",
    "\n",
    "    start_point = position_mapping[position]\n",
    "\n",
    "    cv2.rectangle(\n",
    "        image_with_instructions,\n",
    "        start_point,\n",
    "        (start_point[0] + bg_width, start_point[1] + bg_height),\n",
    "        (0, 0, 255),\n",
    "        -1,\n",
    "    )\n",
    "\n",
    "    for idx, instruction in enumerate(instructions):\n",
    "        y = start_point[1] + (idx + 1) * text_size[1] + padding\n",
    "        cv2.putText(\n",
    "            image_with_instructions,\n",
    "            instruction,\n",
    "            (start_point[0] + padding, y),\n",
    "            font,\n",
    "            1,\n",
    "            (255, 255, 255),\n",
    "            1,\n",
    "        )\n",
    "\n",
    "    return image_with_instructions"
   ]
  },
  {
   "cell_type": "code",
   "execution_count": 3,
   "metadata": {},
   "outputs": [],
   "source": [
    "def main():\n",
    "    path = \"/home/acer/workspace/images/output_images/1/image_0005.jpg\"\n",
    "    instructions = [\n",
    "        \"Dummy Instructions\",\n",
    "        \" \",\n",
    "        \"Press 's' to select this frame\",\n",
    "        \" \",\n",
    "        \"Press 'Esc' to exit\"\n",
    "    ]\n",
    "    image = cv2.imread(path)\n",
    "\n",
    "    positions = [\"top-left\", \"top-right\", \"center\", \"bottom-left\", \"bottom-right\"]\n",
    "    \n",
    "    for idx, position in enumerate(positions, start=1):\n",
    "        window_name = f\"image{idx}\"\n",
    "        positioned_image = put_text_with_background(image, instructions, position=position)\n",
    "        cv2.namedWindow(window_name, cv2.WINDOW_KEEPRATIO)\n",
    "        cv2.imshow(window_name, positioned_image)\n",
    "        cv2.waitKey()\n",
    "\n",
    "    cv2.destroyAllWindows()"
   ]
  },
  {
   "cell_type": "code",
   "execution_count": 4,
   "metadata": {},
   "outputs": [],
   "source": [
    "if __name__ == \"__main__\":\n",
    "    main()"
   ]
  }
 ],
 "metadata": {
  "kernelspec": {
   "display_name": "openvino",
   "language": "python",
   "name": "python3"
  },
  "language_info": {
   "codemirror_mode": {
    "name": "ipython",
    "version": 3
   },
   "file_extension": ".py",
   "mimetype": "text/x-python",
   "name": "python",
   "nbconvert_exporter": "python",
   "pygments_lexer": "ipython3",
   "version": "3.10.12"
  }
 },
 "nbformat": 4,
 "nbformat_minor": 2
}
