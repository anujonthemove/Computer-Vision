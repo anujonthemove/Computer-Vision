{
 "cells": [
  {
   "cell_type": "code",
   "execution_count": 1,
   "metadata": {},
   "outputs": [],
   "source": [
    "import numpy as np\n",
    "import cv2"
   ]
  },
  {
   "cell_type": "code",
   "execution_count": 2,
   "metadata": {},
   "outputs": [],
   "source": [
    "def compute_polygon_intersection(image, polygon1_points, polygon2_points):\n",
    "    \"\"\"\n",
    "    Compute the intersection mask between two polygons and visualize it.\n",
    "\n",
    "    Args:\n",
    "        image (numpy.ndarray): The input image.\n",
    "        polygon1_points (list): List of points for the first polygon.\n",
    "        polygon2_points (list): List of points for the second polygon.\n",
    "\n",
    "    Returns:\n",
    "        tuple: A tuple containing:\n",
    "            - polygons_intersect (bool): True if polygons intersect, False otherwise.\n",
    "            - intersection_visualization (numpy.ndarray): Visualization of the intersection.\n",
    "    \"\"\"\n",
    "    # Create a mask for both polygons\n",
    "    mask1 = np.zeros_like(image, dtype=np.uint8)\n",
    "    mask2 = np.zeros_like(image, dtype=np.uint8)\n",
    "    \n",
    "    cv2.fillPoly(mask1, [np.array(polygon1_points, dtype=np.int32)], (255, 255, 0))\n",
    "    cv2.fillPoly(mask2, [np.array(polygon2_points, dtype=np.int32)], (255, 0, 255))\n",
    "\n",
    "    # Compute the intersection of the two masks\n",
    "    intersection_mask = cv2.bitwise_and(mask1, mask1)\n",
    "\n",
    "    # Visualize the intersection by adding the original masks\n",
    "    intersection_visualization = cv2.add(cv2.add(mask1, mask2), intersection_mask)\n",
    "\n",
    "    # Check if the intersection mask has any non-zero pixels\n",
    "    polygons_intersect = np.any(intersection_mask)\n",
    "\n",
    "    return polygons_intersect, intersection_visualization"
   ]
  },
  {
   "cell_type": "code",
   "execution_count": 3,
   "metadata": {},
   "outputs": [],
   "source": [
    "def main():\n",
    "    image = np.zeros((500, 500, 3), dtype=np.uint8)\n",
    "    polygon1_points = [(100, 100), (300, 100), (200, 300)]\n",
    "    polygon2_points = [(250, 150), (450, 150), (350, 350)]\n",
    "\n",
    "    polygons_intersect, intersection_visualization = compute_polygon_intersection(image, polygon1_points, polygon2_points)\n",
    "\n",
    "    print(\"Polygons intersect:\", polygons_intersect)\n",
    "\n",
    "    cv2.namedWindow(\"Intersection Visualization\", cv2.WINDOW_GUI_NORMAL | cv2.WINDOW_AUTOSIZE)\n",
    "    # cv2.namedWindow(\"Intersection Visualization\", cv2.WINDOW_KEEPRATIO)\n",
    "    cv2.imshow('Intersection Visualization', intersection_visualization)\n",
    "    cv2.waitKey(0)\n",
    "    cv2.destroyAllWindows()\n"
   ]
  },
  {
   "cell_type": "code",
   "execution_count": 4,
   "metadata": {},
   "outputs": [
    {
     "name": "stdout",
     "output_type": "stream",
     "text": [
      "Polygons intersect: True\n"
     ]
    }
   ],
   "source": [
    "if __name__ == \"__main__\":\n",
    "    main()"
   ]
  }
 ],
 "metadata": {
  "kernelspec": {
   "display_name": "openvino",
   "language": "python",
   "name": "python3"
  },
  "language_info": {
   "codemirror_mode": {
    "name": "ipython",
    "version": 3
   },
   "file_extension": ".py",
   "mimetype": "text/x-python",
   "name": "python",
   "nbconvert_exporter": "python",
   "pygments_lexer": "ipython3",
   "version": "3.10.12"
  }
 },
 "nbformat": 4,
 "nbformat_minor": 2
}
