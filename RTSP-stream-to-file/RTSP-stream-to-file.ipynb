{
 "cells": [
  {
   "cell_type": "code",
   "execution_count": null,
   "metadata": {},
   "outputs": [],
   "source": [
    "import cv2\n",
    "import datetime"
   ]
  },
  {
   "cell_type": "code",
   "execution_count": null,
   "metadata": {},
   "outputs": [],
   "source": [
    "class VideoToVideoWriter:\n",
    "    '''\n",
    "    Able to write only '.mp4' and '.avi' file formats with currently installed ffmpeg\n",
    "    '''\n",
    "\n",
    "    @staticmethod\n",
    "    def video_writer(path_to_video, video_prefix='video', video_extn='.avi'):\n",
    "        allowed_vid_extns = ['.avi', '.mp4']\n",
    "        if video_extn not in allowed_vid_extns:\n",
    "            print('Unsupported extension, exiting...')\n",
    "            return\n",
    "\n",
    "        # Initialize video capture\n",
    "        cap = cv2.VideoCapture(path_to_video)\n",
    "\n",
    "        # Get video properties\n",
    "        fps = int(cap.get(cv2.CAP_PROP_FPS))\n",
    "        w, h = map(int, (cap.get(cv2.CAP_PROP_FRAME_WIDTH), cap.get(cv2.CAP_PROP_FRAME_HEIGHT)))\n",
    "\n",
    "        # Generate a unique video name based on the current timestamp\n",
    "        timestamp = datetime.datetime.now().strftime(\"%I_%M_%p_%B_%d_%Y\")\n",
    "        video_name = f'{video_prefix}{timestamp}{video_extn}'\n",
    "\n",
    "        fourcc = cv2.VideoWriter_fourcc(*'XVID') if video_extn == '.avi' else cv2.VideoWriter_fourcc(*'mp4v')\n",
    "\n",
    "        out = cv2.VideoWriter(video_name, fourcc, fps, (w, h))\n",
    "\n",
    "        while cap.isOpened():\n",
    "            ret, frame = cap.read()\n",
    "\n",
    "            if ret:\n",
    "                out.write(frame)\n",
    "                cv2.imshow(\"Video\", frame)\n",
    "                if cv2.waitKey(1) & 0xFF == ord('q'):\n",
    "                    break\n",
    "            else:\n",
    "                break\n",
    "\n",
    "        cv2.destroyAllWindows()\n",
    "        cap.release()\n",
    "        out.release()"
   ]
  },
  {
   "cell_type": "code",
   "execution_count": null,
   "metadata": {},
   "outputs": [],
   "source": [
    "def main():\n",
    "    # Example\n",
    "    VideoToVideoWriter.video_writer('rtsp://USERNAME:PASSWORD@IP:PORT/URL', \n",
    "                                    video_prefix='your_prefix_', \n",
    "                                    video_extn='.avi')\n",
    "\n",
    "if __name__ == '__main__':\n",
    "    main()"
   ]
  }
 ],
 "metadata": {
  "language_info": {
   "name": "python"
  }
 },
 "nbformat": 4,
 "nbformat_minor": 2
}
