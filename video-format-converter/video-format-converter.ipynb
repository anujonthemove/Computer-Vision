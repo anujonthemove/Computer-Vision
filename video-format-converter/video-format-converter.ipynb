{
 "cells": [
  {
   "cell_type": "code",
   "execution_count": 1,
   "metadata": {},
   "outputs": [],
   "source": [
    "import os\n",
    "from moviepy.editor import VideoFileClip\n",
    "from pathlib import Path"
   ]
  },
  {
   "cell_type": "code",
   "execution_count": 2,
   "metadata": {},
   "outputs": [],
   "source": [
    "def convert_video_format(input_file, to_format):\n",
    "    \n",
    "    # Define a mapping of common video formats to FFmpeg codecs\n",
    "    format_to_codec = {\n",
    "        \".mp4\": \"libx264\",  # MP4 format using H.264 codec\n",
    "        \".avi\": \"rawvideo\",  # AVI format using raw video codec\n",
    "        \".mkv\": \"libx264\",  # Matroska format using H.264 codec\n",
    "        \".dav\": \"libx264\",  # Add a mapping for .dav to .mp4\n",
    "        # Add more format-to-codec mappings here\n",
    "    }\n",
    "\n",
    "    if not os.path.exists(input_file):\n",
    "        print(\"Input file does not exist.\")\n",
    "        return False\n",
    "\n",
    "    # Extract the input format from the input file extension\n",
    "    path = Path(input_file)\n",
    "    # from_format = input_file.split('.')[-1]\n",
    "    from_format = path.suffix\n",
    "\n",
    "    if from_format not in format_to_codec:\n",
    "        print(\"Unsupported input format.\")\n",
    "        return False\n",
    "\n",
    "    to_format = to_format.lower()  # Ensure the target format is in lowercase\n",
    "\n",
    "    if to_format not in format_to_codec:\n",
    "        print(\"Unsupported output format.\")\n",
    "        return False\n",
    "\n",
    "    video_clip = VideoFileClip(input_file)\n",
    "\n",
    "    if from_format != to_format:\n",
    "        # If formats are different, use FFmpeg for conversion\n",
    "        # output_path = os.path.splitext(input_file)[0] + f\".{to_format}\"\n",
    "        output_path = path.stem + f\"{to_format}\"\n",
    "\n",
    "        # Determine color conversion and orientation parameters\n",
    "        ffmpeg_params = []\n",
    "\n",
    "        # Apply specific parameters for handling color and orientation issues\n",
    "        if from_format == \".mp4\" and to_format == \".avi\":\n",
    "            ffmpeg_params = [\"-vf\", \"format=bgr24\"]\n",
    "\n",
    "        if from_format == \".mkv\" and to_format == \".avi\":\n",
    "            ffmpeg_params = [\"-vf\", \"format=bgr24\", \"-vf\", \"vflip\"]\n",
    "\n",
    "        # If converting from .dav to .mp4, use similar parameters as the provided code\n",
    "        if from_format == \".dav\" and to_format == \".mp4\":\n",
    "            ffmpeg_params = [\"-c:v\", \"libx264\", \"-crf\", \"24\"]\n",
    "\n",
    "        # Use FFmpeg codec for conversion and apply additional parameters\n",
    "        video_clip.write_videofile(output_path, codec=format_to_codec[to_format], fps=video_clip.fps, threads=4, ffmpeg_params=ffmpeg_params)\n",
    "        print(f\"Conversion complete. Output saved as: {output_path}\")\n",
    "    else:\n",
    "        # If formats are the same, no conversion needed\n",
    "        print(\"Input and output formats are the same. No conversion performed.\")\n",
    "        return False\n"
   ]
  },
  {
   "cell_type": "code",
   "execution_count": 3,
   "metadata": {},
   "outputs": [
    {
     "name": "stdout",
     "output_type": "stream",
     "text": [
      "Input and output formats are the same. No conversion performed.\n"
     ]
    }
   ],
   "source": [
    "if __name__ == \"__main__\":\n",
    "    input_file = \"video.mp4\"  # Input video file path (e.g., MP4 format)\n",
    "    to_format = \".mp4\"  # Desired output format\n",
    "\n",
    "    convert_video_format(input_file, to_format)"
   ]
  }
 ],
 "metadata": {
  "kernelspec": {
   "display_name": "cv",
   "language": "python",
   "name": "python3"
  },
  "language_info": {
   "codemirror_mode": {
    "name": "ipython",
    "version": 3
   },
   "file_extension": ".py",
   "mimetype": "text/x-python",
   "name": "python",
   "nbconvert_exporter": "python",
   "pygments_lexer": "ipython3",
   "version": "3.10.12"
  },
  "orig_nbformat": 4
 },
 "nbformat": 4,
 "nbformat_minor": 2
}
