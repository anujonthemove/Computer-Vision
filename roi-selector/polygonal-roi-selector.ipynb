{
 "cells": [
  {
   "attachments": {},
   "cell_type": "markdown",
   "metadata": {},
   "source": [
    "### Polygonal ROI\n",
    "\n",
    "* This code has been taken from: https://stackoverflow.com/questions/37099262/drawing-filled-polygon-using-mouse-events-in-open-cv-using-python/37235130. \n",
    "\n",
    "* I have made the following modifications to the code:\n",
    "\n",
    "    *   Instead of taking a fixed size canvas, I have modifed it to take an RGB image.\n",
    "    *   Color of the lines being drawn and the final lines being drawn has been changed.\n",
    "    *   The code now saves roi masked image on the disk.\n"
   ]
  },
  {
   "cell_type": "code",
   "execution_count": 7,
   "metadata": {},
   "outputs": [],
   "source": [
    "import numpy as np\n",
    "import cv2"
   ]
  },
  {
   "cell_type": "code",
   "execution_count": 8,
   "metadata": {},
   "outputs": [],
   "source": [
    "\n",
    "class PolygonDrawer:\n",
    "    def __init__(self, window_name, image):\n",
    "        self.FINAL_LINE_COLOR = (0, 255, 0)\n",
    "        self.WORKING_LINE_COLOR = (0, 0, 255)\n",
    "        self.image = image\n",
    "        self.window_name = window_name\n",
    "        self.done = False\n",
    "        self.current = (0, 0)\n",
    "        self.points = []\n",
    "\n",
    "    def on_mouse(self, event, x, y, buttons, user_param):\n",
    "        \"\"\"\n",
    "        Mouse callback function that handles mouse events for polygon drawing.\n",
    "        \"\"\"\n",
    "        if self.done:\n",
    "            return\n",
    "        if event == cv2.EVENT_MOUSEMOVE:\n",
    "            self.current = (x, y)\n",
    "        elif event == cv2.EVENT_LBUTTONDOWN:\n",
    "            self.add_point(x, y)\n",
    "        elif event == cv2.EVENT_RBUTTONDOWN:\n",
    "            self.complete_polygon()\n",
    "\n",
    "    def add_point(self, x, y):\n",
    "        \"\"\"\n",
    "        Adds a point to the list of polygon points.\n",
    "        \"\"\"\n",
    "        print(f\"Adding point #{len(self.points)} with position ({x}, {y})\")\n",
    "        self.points.append((x, y))\n",
    "\n",
    "    def complete_polygon(self):\n",
    "        \"\"\"\n",
    "        Marks polygon drawing as complete.\n",
    "        \"\"\"\n",
    "        print(f\"Completing polygon with {len(self.points)} points.\")\n",
    "        self.done = True\n",
    "\n",
    "    def draw_polygon(self, canvas):\n",
    "        \"\"\"\n",
    "        Draws the current state of the polygon on the canvas.\n",
    "        \"\"\"\n",
    "        if len(self.points) > 0:\n",
    "            cv2.polylines(canvas, np.array([self.points]), False, self.FINAL_LINE_COLOR, thickness=4)\n",
    "            if self.current != (0, 0):\n",
    "                cv2.line(canvas, self.points[-1], self.current, self.WORKING_LINE_COLOR, thickness=4)\n",
    "        return canvas\n",
    "\n",
    "    def run(self):\n",
    "        \"\"\"\n",
    "        Runs the polygon drawing application.\n",
    "        \"\"\"\n",
    "        cv2.namedWindow(self.window_name, flags=cv2.WINDOW_KEEPRATIO)\n",
    "        cv2.imshow(self.window_name, self.image)\n",
    "        cv2.waitKey(1)\n",
    "        cv2.setMouseCallback(self.window_name, self.on_mouse)\n",
    "\n",
    "        while not self.done:\n",
    "            canvas = self.image.copy()\n",
    "            cv2.putText(canvas, \"Press 'Esc' to finish adding points\", (10, 30), cv2.FONT_HERSHEY_SIMPLEX, 0.7, (255, 0, 0), 2, cv2.LINE_AA)\n",
    "            canvas = self.draw_polygon(canvas)\n",
    "            cv2.imshow(self.window_name, canvas)\n",
    "            if cv2.waitKey(50) == 27:  # ESC hit\n",
    "                self.done = True\n",
    "\n",
    "        mask = np.zeros(self.image.shape[:2], np.uint8)\n",
    "        if len(self.points) > 0:\n",
    "            cv2.fillPoly(mask, np.array([self.points]), 255)\n",
    "            self.image = cv2.bitwise_and(self.image, self.image, mask=mask)\n",
    "\n",
    "        cv2.imshow(self.window_name, self.image)\n",
    "        cv2.waitKey()\n",
    "        cv2.destroyAllWindows()\n",
    "        return self.image"
   ]
  },
  {
   "cell_type": "code",
   "execution_count": 9,
   "metadata": {},
   "outputs": [
    {
     "name": "stdout",
     "output_type": "stream",
     "text": [
      "====> Use left click to draw polygon, right click to release and finish\n",
      "Adding point #0 with position (67, 113)\n",
      "Adding point #1 with position (139, 45)\n",
      "Adding point #2 with position (308, 38)\n",
      "Adding point #3 with position (422, 128)\n",
      "Adding point #4 with position (373, 208)\n",
      "Adding point #5 with position (232, 231)\n",
      "Adding point #6 with position (153, 179)\n",
      "Completing polygon with 7 points.\n",
      "Polygon Points: [(67, 113), (139, 45), (308, 38), (422, 128), (373, 208), (232, 231), (153, 179)]\n"
     ]
    }
   ],
   "source": [
    "if __name__ == \"__main__\":\n",
    "    print(\"====> Use left click to draw polygon, right click to release and finish\")\n",
    "    print()\n",
    "    image = cv2.imread('0.jpg')\n",
    "    pd = PolygonDrawer(window_name=\"Draw Polygonal ROI\", image=image)\n",
    "    result_image = pd.run()\n",
    "    cv2.imwrite(\"frame_with_polygon.jpg\", result_image)\n",
    "    print(\"Polygon Points:\", pd.points)"
   ]
  }
 ],
 "metadata": {
  "kernelspec": {
   "display_name": ".venv",
   "language": "python",
   "name": "python3"
  },
  "language_info": {
   "codemirror_mode": {
    "name": "ipython",
    "version": 3
   },
   "file_extension": ".py",
   "mimetype": "text/x-python",
   "name": "python",
   "nbconvert_exporter": "python",
   "pygments_lexer": "ipython3",
   "version": "3.10.12"
  },
  "orig_nbformat": 4
 },
 "nbformat": 4,
 "nbformat_minor": 2
}
