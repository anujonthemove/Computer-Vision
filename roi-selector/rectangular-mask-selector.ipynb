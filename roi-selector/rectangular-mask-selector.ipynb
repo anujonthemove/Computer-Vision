{
 "cells": [
  {
   "cell_type": "code",
   "execution_count": 11,
   "metadata": {
    "ExecuteTime": {
     "end_time": "2020-05-17T13:46:20.231855Z",
     "start_time": "2020-05-17T13:46:15.591325Z"
    }
   },
   "outputs": [],
   "source": [
    "import cv2\n",
    "import numpy as np\n",
    "\n",
    "class CreateROIMask:\n",
    "    def __init__(self, image_path):\n",
    "        self.image_path = image_path\n",
    "        self.img = cv2.imread(image_path)\n",
    "        self.mask = np.zeros_like(self.img[:, :, 0])  # Initialize a mask of zeros\n",
    "\n",
    "    def select_roi(self):\n",
    "        cv2.namedWindow('ROI selector', cv2.WINDOW_KEEPRATIO)\n",
    "        roi = cv2.selectROI(self.img)\n",
    "        cv2.destroyAllWindows()\n",
    "\n",
    "        self.create_mask(roi)\n",
    "        masked_img = cv2.bitwise_and(self.img, self.img, mask=self.mask)\n",
    "\n",
    "        # self.display(\"Original Image\", self.img)\n",
    "        self.display(\"Masked Image\", masked_img)\n",
    "        self.save_masked_image(masked_img)\n",
    "\n",
    "    def create_mask(self, roi):\n",
    "        mask = np.zeros_like(self.mask)  # Create a temporary mask\n",
    "        x, y, w, h = roi\n",
    "        mask[y:y+h, x:x+w] = 255  # Set the selected ROI region to white\n",
    "        self.mask = mask\n",
    "\n",
    "    def display(self, name, img):\n",
    "        cv2.namedWindow(name, cv2.WINDOW_KEEPRATIO)\n",
    "        cv2.imshow(name, img)\n",
    "        cv2.waitKey()\n",
    "        cv2.destroyAllWindows()\n",
    "\n",
    "    def save_masked_image(self, img):\n",
    "        output_path = 'masked_image.jpg'\n",
    "        cv2.imwrite(output_path, img)\n",
    "        print(f\"Masked image saved as '{output_path}'\")"
   ]
  },
  {
   "cell_type": "code",
   "execution_count": 12,
   "metadata": {},
   "outputs": [
    {
     "name": "stdout",
     "output_type": "stream",
     "text": [
      "Left mouse click to draw a rectangular ROI\n",
      "Press ENTER to confirm and esc to Exit\n",
      "Select a ROI and then press SPACE or ENTER button!\n",
      "Cancel the selection process by pressing c button!\n",
      "Masked image saved as 'masked_image.jpg'\n"
     ]
    }
   ],
   "source": [
    "\n",
    "if __name__ == '__main__':\n",
    "    print(\"Left mouse click to draw a rectangular ROI\")\n",
    "    print(\"Press ENTER to confirm and esc to Exit\")\n",
    "    image_path = '0.jpg'  # Replace with your image file path\n",
    "    app = CreateROIMask(image_path)\n",
    "    app.select_roi()\n"
   ]
  },
  {
   "cell_type": "code",
   "execution_count": null,
   "metadata": {
    "ExecuteTime": {
     "end_time": "2020-05-17T13:56:49.669286Z",
     "start_time": "2020-05-17T13:56:49.600270Z"
    }
   },
   "outputs": [],
   "source": []
  },
  {
   "cell_type": "code",
   "execution_count": null,
   "metadata": {},
   "outputs": [],
   "source": []
  }
 ],
 "metadata": {
  "kernelspec": {
   "display_name": "Python 3",
   "language": "python",
   "name": "python3"
  },
  "language_info": {
   "codemirror_mode": {
    "name": "ipython",
    "version": 3
   },
   "file_extension": ".py",
   "mimetype": "text/x-python",
   "name": "python",
   "nbconvert_exporter": "python",
   "pygments_lexer": "ipython3",
   "version": "3.10.12"
  },
  "varInspector": {
   "cols": {
    "lenName": 16,
    "lenType": 16,
    "lenVar": 40
   },
   "kernels_config": {
    "python": {
     "delete_cmd_postfix": "",
     "delete_cmd_prefix": "del ",
     "library": "var_list.py",
     "varRefreshCmd": "print(var_dic_list())"
    },
    "r": {
     "delete_cmd_postfix": ") ",
     "delete_cmd_prefix": "rm(",
     "library": "var_list.r",
     "varRefreshCmd": "cat(var_dic_list()) "
    }
   },
   "types_to_exclude": [
    "module",
    "function",
    "builtin_function_or_method",
    "instance",
    "_Feature"
   ],
   "window_display": false
  }
 },
 "nbformat": 4,
 "nbformat_minor": 2
}
