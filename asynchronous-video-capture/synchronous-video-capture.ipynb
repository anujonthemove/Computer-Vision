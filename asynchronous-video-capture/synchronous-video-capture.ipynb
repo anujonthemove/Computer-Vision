{
 "cells": [
  {
   "cell_type": "code",
   "execution_count": 16,
   "metadata": {},
   "outputs": [],
   "source": [
    "import cv2\n",
    "import time"
   ]
  },
  {
   "cell_type": "code",
   "execution_count": 17,
   "metadata": {},
   "outputs": [],
   "source": [
    "def synchronous_video_capture(source=0):\n",
    "\n",
    "    cap = cv2.VideoCapture(source)\n",
    "    frame_number = 0\n",
    "    start_time = time.time()\n",
    "    \n",
    "    while True:\n",
    "        ret, frame = cap.read()\n",
    "\n",
    "        stop_time = time.time()\n",
    "        total_time = stop_time - start_time\n",
    "        frame_number = frame_number + 1\n",
    "        sync_fps = frame_number / total_time\n",
    "        cv2.putText(frame, \"Synchronous Video Capture\", (5, 30), cv2.FONT_HERSHEY_DUPLEX, 1, (0, 0, 255), 2)\n",
    "        cv2.putText(frame, str(round(sync_fps, 2)) + \" FPS\", (5, 60), cv2.FONT_HERSHEY_DUPLEX, 1, (0, 255, 0), 2)\n",
    "        cv2.namedWindow(\"Synchronous Video Capture\", cv2.WINDOW_GUI_NORMAL | cv2.WINDOW_AUTOSIZE)\n",
    "        \n",
    "        cv2.imshow('Synchronous Video Capture', frame)\n",
    "        k = cv2.waitKey(1)\n",
    "        if k == 27:\n",
    "            cap.release()\n",
    "            break\n",
    "\n",
    "    cv2.destroyAllWindows()\n",
    "    cap.release()"
   ]
  },
  {
   "cell_type": "code",
   "execution_count": 18,
   "metadata": {},
   "outputs": [],
   "source": [
    "synchronous_video_capture(source=2)"
   ]
  }
 ],
 "metadata": {
  "kernelspec": {
   "display_name": "openvino",
   "language": "python",
   "name": "python3"
  },
  "language_info": {
   "codemirror_mode": {
    "name": "ipython",
    "version": 3
   },
   "file_extension": ".py",
   "mimetype": "text/x-python",
   "name": "python",
   "nbconvert_exporter": "python",
   "pygments_lexer": "ipython3",
   "version": "3.10.12"
  }
 },
 "nbformat": 4,
 "nbformat_minor": 2
}
