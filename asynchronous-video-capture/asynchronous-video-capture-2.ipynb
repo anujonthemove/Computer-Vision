{
 "cells": [
  {
   "cell_type": "code",
   "execution_count": 58,
   "metadata": {},
   "outputs": [],
   "source": [
    "import threading\n",
    "import cv2\n",
    "import time"
   ]
  },
  {
   "cell_type": "code",
   "execution_count": null,
   "metadata": {},
   "outputs": [],
   "source": [
    "class AsyncVideoCapture:\n",
    "    def __init__(self, source=0):\n",
    "        self.source = source\n",
    "        self.capture = cv2.VideoCapture(self.source)\n",
    "        self.is_frame_grabbed, self.latest_frame = self.capture.read()\n",
    "        self.is_capturing = False\n",
    "        self.lock = threading.Lock()\n",
    "\n",
    "    def start_capturing(self):\n",
    "        if self.is_capturing:\n",
    "            print('[!] Asynchronous video capturing has already been started.')\n",
    "            return\n",
    "\n",
    "        self.is_capturing = True\n",
    "        self.capture_thread = threading.Thread(target=self._update_frames)\n",
    "        self.capture_thread.start()\n",
    "\n",
    "    def _update_frames(self):\n",
    "        while self.is_capturing:\n",
    "            is_frame_grabbed, frame = self.capture.read()\n",
    "            with self.lock:\n",
    "                self.is_frame_grabbed = is_frame_grabbed\n",
    "                self.latest_frame = frame\n",
    "\n",
    "    def read_latest_frame(self):\n",
    "        with self.lock:\n",
    "            frame = self.latest_frame.copy() if self.latest_frame is not None else None\n",
    "            is_frame_grabbed = self.is_frame_grabbed\n",
    "        return is_frame_grabbed, frame\n",
    "\n",
    "    def stop_capturing(self):\n",
    "        self.is_capturing = False\n",
    "        self.capture_thread.join()\n",
    "\n",
    "    def release_resources(self):\n",
    "        self.capture.release()\n",
    "\n",
    "    def __del__(self):\n",
    "        self.release_resources()"
   ]
  },
  {
   "cell_type": "code",
   "execution_count": null,
   "metadata": {},
   "outputs": [],
   "source": [
    "def asynchronous_video_capture(source=0):\n",
    "    try:\n",
    "        video_capture = AsyncVideoCapture(source=source)\n",
    "        video_capture.start_capturing()\n",
    "\n",
    "        start_time = time.time()\n",
    "        frame_number = 0\n",
    "\n",
    "        while True:\n",
    "            _, frame = video_capture.read_latest_frame()\n",
    "            if frame is None:\n",
    "                print(\"Source ended\")\n",
    "                break\n",
    "\n",
    "            stop_time = time.time()\n",
    "            total_time = stop_time - start_time\n",
    "            frame_number = frame_number + 1\n",
    "            sync_fps = frame_number / total_time\n",
    "\n",
    "            cv2.putText(frame, \"Asynchronous Video Capture\", (5, 60), cv2.FONT_HERSHEY_DUPLEX, 1, (0, 0, 255), 2)\n",
    "            cv2.putText(frame, str(round(sync_fps, 2)) + \" FPS\", (5, 30), cv2.FONT_HERSHEY_DUPLEX, 1, (0, 255, 0), 2)\n",
    "            cv2.namedWindow(\"Asynchronous Video Capture\", cv2.WINDOW_GUI_NORMAL | cv2.WINDOW_AUTOSIZE)\n",
    "            cv2.imshow('Asynchronous Video Capture', frame)\n",
    "\n",
    "            k = cv2.waitKey(1) & 0xFF\n",
    "            if k == 27:\n",
    "                break\n",
    "\n",
    "\n",
    "    except Exception as e:\n",
    "        print(f'[!] An error occurred: {e}')\n",
    "\n",
    "    finally:\n",
    "        video_capture.stop_capturing()\n",
    "        cv2.destroyAllWindows()"
   ]
  },
  {
   "cell_type": "code",
   "execution_count": 59,
   "metadata": {},
   "outputs": [],
   "source": [
    "asynchronous_video_capture(source=2)\n"
   ]
  }
 ],
 "metadata": {
  "hide_input": false,
  "kernelspec": {
   "display_name": "Python 3",
   "language": "python",
   "name": "python3"
  },
  "language_info": {
   "codemirror_mode": {
    "name": "ipython",
    "version": 3
   },
   "file_extension": ".py",
   "mimetype": "text/x-python",
   "name": "python",
   "nbconvert_exporter": "python",
   "pygments_lexer": "ipython3",
   "version": "3.10.12"
  }
 },
 "nbformat": 4,
 "nbformat_minor": 2
}
