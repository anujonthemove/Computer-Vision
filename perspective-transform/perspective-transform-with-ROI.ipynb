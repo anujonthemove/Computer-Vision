{
 "cells": [
  {
   "cell_type": "markdown",
   "metadata": {},
   "source": [
    "### Perspective transformation using manually selected Region of Interest(ROI)\n",
    "\n",
    "#### ROI Selector Module\n",
    "\n",
    "* For this, you would need to use `four_point_roi_selector.py` module from this repository.\n",
    "\n",
    "#### select ROI\n",
    "Get ROI points. These are used to perform the perspective transform.\n",
    "\n",
    "* Note: If you re-run this code for the second time, you won't be able to see the ROI drawn on the image. You need to reset it (by pressing r). This only happens in jupyter notebook because the points remain in the session.\n",
    "\n",
    "* Instructions appear when you call the ROI selector. See below.\n",
    "\n",
    "#### Image warping\n",
    "* Remember: This depends on what order you have selected the ROI points. Select carefully.\n",
    "* Desired order: tr, tl, bl, br to enclose a 4-point figure."
   ]
  },
  {
   "cell_type": "code",
   "execution_count": 15,
   "metadata": {},
   "outputs": [],
   "source": [
    "import numpy as np\n",
    "import cv2\n",
    "import sys, os\n",
    "from four_point_roi_selector import ROIDefiner"
   ]
  },
  {
   "cell_type": "code",
   "execution_count": 16,
   "metadata": {},
   "outputs": [],
   "source": [
    "def select_roi(frame):\n",
    "    \"\"\"\n",
    "    select roi in order \n",
    "    top-left, top-right, bottom-right, bottom-left\n",
    "    \"\"\"\n",
    "    copy_frame = frame.copy()\n",
    "    roi_definer = ROIDefiner()\n",
    "    boundary_points = roi_definer.define_roi(frame, copy_frame)\n",
    "    print(\"selected coordinates: \", boundary_points)\n",
    "    return np.array(boundary_points, dtype=np.float32)"
   ]
  },
  {
   "cell_type": "code",
   "execution_count": 18,
   "metadata": {},
   "outputs": [],
   "source": [
    "import numpy as np\n",
    "import cv2\n",
    "\n",
    "def four_point_transform(image, pts):\n",
    "    if len(pts) != 4:\n",
    "        raise ValueError(\"Input 'pts' must contain exactly four points.\")\n",
    "\n",
    "    rect = np.array(pts, dtype=\"float32\")\n",
    "\n",
    "    try:\n",
    "        # compute the width and height of the new image\n",
    "        widthA = np.linalg.norm(rect[1] - rect[0])\n",
    "        widthB = np.linalg.norm(rect[2] - rect[3])\n",
    "        heightA = np.linalg.norm(rect[2] - rect[1])\n",
    "        heightB = np.linalg.norm(rect[3] - rect[0])\n",
    "\n",
    "        maxWidth = max(int(widthA), int(widthB))\n",
    "        maxHeight = max(int(heightA), int(heightB))\n",
    "\n",
    "        dst = np.array([\n",
    "            [0, 0],\n",
    "            [maxWidth - 1, 0],\n",
    "            [maxWidth - 1, maxHeight - 1],\n",
    "            [0, maxHeight - 1]], dtype=\"float32\")\n",
    "\n",
    "        # compute the perspective transform matrix\n",
    "        M = cv2.getPerspectiveTransform(rect, dst)\n",
    "\n",
    "        # apply the perspective transform\n",
    "        warped = cv2.warpPerspective(image, M, (maxWidth, maxHeight))\n",
    "\n",
    "        return warped\n",
    "\n",
    "    except Exception as e:\n",
    "        raise Exception(\"An error occurred during perspective transformation: {}\".format(str(e)))\n"
   ]
  },
  {
   "cell_type": "code",
   "execution_count": 19,
   "metadata": {},
   "outputs": [
    {
     "name": "stdout",
     "output_type": "stream",
     "text": [
      "\n",
      "Image resolution:  (1037, 1560, 3)\n",
      "--------------------------------------------------------------\n",
      "Define roi, select Left->Top->Right->Bottom points on an image\n",
      "Please follow the below order while selecting roi\n",
      "--------------------------------------------------------------\n",
      "Select --> lower_left_x, lower_left_y  point\n",
      "Select --> upper_left_x, upper_left_y  point\n",
      "Select --> upper_right_x, upper_right_y  point\n",
      "Select --> lower_right_x, lower_right_y  point\n",
      "---------------------------------------------------------------------\n",
      "---------------------------------------------------------------------\n",
      "Press: \n",
      "'c': Confirm\n",
      "'r': Reset\n",
      "'q': Quit\n",
      "---------------------------------------------------------------------\n",
      "\n",
      "selected coordinates:  [(613, 312), (959, 316), (1502, 883), (39, 887)]\n"
     ]
    }
   ],
   "source": [
    "if __name__ == \"__main__\":\n",
    "    image = cv2.imread('arco-center-ice.jpg')\n",
    "    image_copy = image.copy()\n",
    "    # resize, if needed\n",
    "    # image = cv2.resize(image, None, fx = 0.5, fy = 0.5, interpolation = cv2.INTER_CUBIC)\n",
    "    # image = cv2.resize(image, (640, 480), interpolation = cv2.INTER_CUBIC)\n",
    "    pts = select_roi(image_copy)\n",
    "\n",
    "    warped_image = four_point_transform(image, pts)\n",
    "\n",
    "    cv2.imshow('Warped Image', warped_image)\n",
    "    cv2.waitKey(0)\n",
    "    cv2.destroyAllWindows()"
   ]
  }
 ],
 "metadata": {
  "kernelspec": {
   "display_name": "cv",
   "language": "python",
   "name": "python3"
  },
  "language_info": {
   "codemirror_mode": {
    "name": "ipython",
    "version": 3
   },
   "file_extension": ".py",
   "mimetype": "text/x-python",
   "name": "python",
   "nbconvert_exporter": "python",
   "pygments_lexer": "ipython3",
   "version": "3.10.12"
  }
 },
 "nbformat": 4,
 "nbformat_minor": 2
}
