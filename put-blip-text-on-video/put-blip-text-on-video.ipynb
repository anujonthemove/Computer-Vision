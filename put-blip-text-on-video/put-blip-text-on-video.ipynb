{
 "cells": [
  {
   "cell_type": "code",
   "execution_count": 82,
   "metadata": {},
   "outputs": [],
   "source": [
    "import cv2"
   ]
  },
  {
   "cell_type": "code",
   "execution_count": 83,
   "metadata": {},
   "outputs": [],
   "source": [
    "def put_text_on_video(VIDEO_PATH):\n",
    "\n",
    "    # Constants\n",
    "    FONT = cv2.FONT_HERSHEY_DUPLEX\n",
    "    FONT_SCALE = 2\n",
    "    FONT_COLOR = (255, 255, 255)\n",
    "    LINE_TYPE = 3\n",
    "    PADDING_X = 20\n",
    "    PADDING_Y = 20\n",
    "    TEXT = '<Your Message>'\n",
    "    DISPLAY_COUNTDOWN = 30\n",
    "    HIDE_COUNTDOWN = 10\n",
    "    BACKGROUND_COLOR = (0, 255, 0)\n",
    "\n",
    "    cap = cv2.VideoCapture(VIDEO_PATH)\n",
    "\n",
    "    while True:\n",
    "        ret, frame = cap.read()\n",
    "        \n",
    "        if not ret:\n",
    "            break\n",
    "        \n",
    "        h, w = frame.shape[:2]\n",
    "        text_size, _ = cv2.getTextSize(TEXT, FONT, FONT_SCALE, LINE_TYPE)\n",
    "        \n",
    "        # Calculate the size of the rectangle based on text size with padding\n",
    "        rect_width = text_size[0] + 2 * PADDING_X\n",
    "        rect_height = text_size[1] + 2 * PADDING_Y\n",
    "\n",
    "        text_position = (w - rect_width - PADDING_X, 90 + rect_height)\n",
    "\n",
    "        if DISPLAY_COUNTDOWN > 0:\n",
    "            # Display the rectangle and text\n",
    "            cv2.rectangle(frame, text_position, (text_position[0] + rect_width, text_position[1] - rect_height), BACKGROUND_COLOR, cv2.FILLED)\n",
    "            cv2.putText(frame, TEXT, (text_position[0] + PADDING_X, text_position[1] - PADDING_Y), FONT, FONT_SCALE, FONT_COLOR, LINE_TYPE)\n",
    "            DISPLAY_COUNTDOWN -= 1\n",
    "        elif DISPLAY_COUNTDOWN == 0 and HIDE_COUNTDOWN > 0:\n",
    "            HIDE_COUNTDOWN -= 1\n",
    "        elif DISPLAY_COUNTDOWN == 0 and HIDE_COUNTDOWN == 0:\n",
    "            DISPLAY_COUNTDOWN = 30\n",
    "            HIDE_COUNTDOWN = 10\n",
    "\n",
    "        cv2.imshow('frame', frame)\n",
    "        k = cv2.waitKey(1)\n",
    "\n",
    "        if k == 27:\n",
    "            cap.release()\n",
    "            cv2.destroyAllWindows()\n",
    "            break\n",
    "\n",
    "    cap.release()\n",
    "    cv2.destroyAllWindows()\n"
   ]
  },
  {
   "cell_type": "code",
   "execution_count": 84,
   "metadata": {},
   "outputs": [],
   "source": [
    "if __name__ == \"__main__\":\n",
    "    video_path = 'your video'\n",
    "    put_text_on_video(video_path)"
   ]
  }
 ],
 "metadata": {
  "kernelspec": {
   "display_name": "cv",
   "language": "python",
   "name": "python3"
  },
  "language_info": {
   "codemirror_mode": {
    "name": "ipython",
    "version": 3
   },
   "file_extension": ".py",
   "mimetype": "text/x-python",
   "name": "python",
   "nbconvert_exporter": "python",
   "pygments_lexer": "ipython3",
   "version": "3.10.12"
  }
 },
 "nbformat": 4,
 "nbformat_minor": 2
}
